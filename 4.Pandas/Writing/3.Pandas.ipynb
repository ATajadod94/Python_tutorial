{
 "cells": [
  {
   "cell_type": "markdown",
   "metadata": {},
   "source": [
    "## Strctured types"
   ]
  },
  {
   "cell_type": "code",
   "execution_count": 2,
   "metadata": {},
   "outputs": [
    {
     "name": "stdout",
     "output_type": "stream",
     "text": [
      "H\n"
     ]
    }
   ],
   "source": [
    "number = 2301391209\n",
    "word = 'Hi, this is Ali'\n",
    "print(word[0])\n",
    "#print(number[0])\n"
   ]
  },
  {
   "cell_type": "code",
   "execution_count": 3,
   "metadata": {},
   "outputs": [
    {
     "ename": "TypeError",
     "evalue": "'str' object does not support item assignment",
     "output_type": "error",
     "traceback": [
      "\u001b[0;31m---------------------------------------------------------------------------\u001b[0m",
      "\u001b[0;31mTypeError\u001b[0m                                 Traceback (most recent call last)",
      "\u001b[0;32m<ipython-input-3-fcb5316c5670>\u001b[0m in \u001b[0;36m<module>\u001b[0;34m()\u001b[0m\n\u001b[0;32m----> 1\u001b[0;31m \u001b[0mword\u001b[0m\u001b[0;34m[\u001b[0m\u001b[0;36m0\u001b[0m\u001b[0;34m]\u001b[0m \u001b[0;34m=\u001b[0m \u001b[0;34m'b'\u001b[0m \u001b[0;31m## strings are ** immutable **\u001b[0m\u001b[0;34m\u001b[0m\u001b[0m\n\u001b[0m",
      "\u001b[0;31mTypeError\u001b[0m: 'str' object does not support item assignment"
     ]
    }
   ],
   "source": [
    "word[0] = 'b' ## strings are ** immutable ** "
   ]
  },
  {
   "cell_type": "markdown",
   "metadata": {},
   "source": [
    "### tuples"
   ]
  },
  {
   "cell_type": "code",
   "execution_count": 9,
   "metadata": {},
   "outputs": [
    {
     "name": "stdout",
     "output_type": "stream",
     "text": [
      "((1, 'two', 2), 3.25)\n",
      "(1, 'two', 2, (1, 'two', 2), 3.25)\n",
      "(1, 'two', 2)\n",
      "(2, (1, 'two', 2), 3.25)\n"
     ]
    }
   ],
   "source": [
    "t1 = () \n",
    "t2 = (1, 'two', 2)\n",
    "\n",
    "t3 = (t2,3.25)\n",
    "\n",
    "print(t3)\n",
    "print(t2 + t3)\n",
    "print((t2 + t3)[3])\n",
    "print((t2 + t3)[2:5])"
   ]
  },
  {
   "cell_type": "code",
   "execution_count": 27,
   "metadata": {},
   "outputs": [
    {
     "ename": "TypeError",
     "evalue": "'tuple' object does not support item assignment",
     "output_type": "error",
     "traceback": [
      "\u001b[0;31m---------------------------------------------------------------------------\u001b[0m",
      "\u001b[0;31mTypeError\u001b[0m                                 Traceback (most recent call last)",
      "\u001b[0;32m<ipython-input-27-e44bc4464a80>\u001b[0m in \u001b[0;36m<module>\u001b[0;34m()\u001b[0m\n\u001b[0;32m----> 1\u001b[0;31m \u001b[0mt2\u001b[0m\u001b[0;34m[\u001b[0m\u001b[0;36m0\u001b[0m\u001b[0;34m]\u001b[0m \u001b[0;34m=\u001b[0m \u001b[0;34m'Ali'\u001b[0m\u001b[0;34m\u001b[0m\u001b[0m\n\u001b[0m",
      "\u001b[0;31mTypeError\u001b[0m: 'tuple' object does not support item assignment"
     ]
    }
   ],
   "source": [
    "t2[0] = 'Ali'"
   ]
  },
  {
   "cell_type": "code",
   "execution_count": 13,
   "metadata": {},
   "outputs": [
    {
     "data": {
      "text/plain": [
       "[1, 'two', 2, (1, 'two', 2), 3.25]"
      ]
     },
     "execution_count": 13,
     "metadata": {},
     "output_type": "execute_result"
    }
   ],
   "source": [
    "[_ for _ in (t2+t3)]"
   ]
  },
  {
   "cell_type": "code",
   "execution_count": 17,
   "metadata": {},
   "outputs": [
    {
     "name": "stdout",
     "output_type": "stream",
     "text": [
      "2 3\n",
      "2 3\n",
      "1 two 2\n"
     ]
    }
   ],
   "source": [
    "x,y = 2,3\n",
    "print(x,y)\n",
    "\n",
    "\n",
    "x,y = (2,3)\n",
    "print(x,y)\n",
    "\n",
    "x,y,z = t2\n",
    "print(x,y,z)\n"
   ]
  },
  {
   "cell_type": "code",
   "execution_count": 20,
   "metadata": {},
   "outputs": [
    {
     "data": {
      "text/plain": [
       "range(1, 10, 2)"
      ]
     },
     "execution_count": 20,
     "metadata": {},
     "output_type": "execute_result"
    }
   ],
   "source": [
    "### Ranges\n",
    "start, stop, step = (1,10,2)\n",
    "range(start,stop,step)"
   ]
  },
  {
   "cell_type": "code",
   "execution_count": 22,
   "metadata": {},
   "outputs": [
    {
     "data": {
      "text/plain": [
       "range(2, 6)"
      ]
     },
     "execution_count": 22,
     "metadata": {},
     "output_type": "execute_result"
    }
   ],
   "source": [
    "range(10)[2:6]"
   ]
  },
  {
   "cell_type": "code",
   "execution_count": 24,
   "metadata": {},
   "outputs": [
    {
     "data": {
      "text/plain": [
       "4"
      ]
     },
     "execution_count": 24,
     "metadata": {},
     "output_type": "execute_result"
    }
   ],
   "source": [
    "range(10)[2:6][2]"
   ]
  },
  {
   "cell_type": "code",
   "execution_count": 26,
   "metadata": {},
   "outputs": [
    {
     "name": "stdout",
     "output_type": "stream",
     "text": [
      "True\n",
      "False\n"
     ]
    }
   ],
   "source": [
    "print(range(0,7,2) == range(0,8,2))\n",
    "print(range(0,7,2) == range(6,-1,-2))"
   ]
  },
  {
   "cell_type": "markdown",
   "metadata": {},
   "source": [
    "### lists"
   ]
  },
  {
   "cell_type": "code",
   "execution_count": 32,
   "metadata": {},
   "outputs": [
    {
     "name": "stdout",
     "output_type": "stream",
     "text": [
      "[[1, 'two', 2], 3.25]\n",
      "[1, 'two', 2, [1, 'two', 2], 3.25]\n",
      "[1, 'two', 2]\n",
      "[2, [1, 'two', 2], 3.25]\n"
     ]
    }
   ],
   "source": [
    "t1 = [] \n",
    "t2 = [1, 'two', 2]\n",
    "\n",
    "t3 = [t2,3.25]\n",
    "\n",
    "\n",
    "print(t3)\n",
    "print(t2 + t3)\n",
    "print((t2 + t3)[3])\n",
    "print((t2 + t3)[2:5])"
   ]
  },
  {
   "cell_type": "code",
   "execution_count": 33,
   "metadata": {},
   "outputs": [
    {
     "name": "stdout",
     "output_type": "stream",
     "text": [
      "[1, 'two', 2]\n",
      "['Ali', 'two', 2]\n"
     ]
    }
   ],
   "source": [
    "# lists ARE mutable\n",
    "print(t2)\n",
    "t2[0] = 'Ali'\n",
    "print(t2)"
   ]
  },
  {
   "cell_type": "code",
   "execution_count": 51,
   "metadata": {},
   "outputs": [
    {
     "name": "stdout",
     "output_type": "stream",
     "text": [
      "[['Ali', 'Zhongxu', 'Veronica', 'Amir'], [1, 2, 3, 4]]\n",
      "[['Alireza', 'Zhongxu', 'Veronica', 'Amir'], [1, 2, 3, 4]]\n",
      "[['Alireza_2', 'Zhongxu', 'Veronica', 'Amir'], [1, 2, 3, 4]]\n",
      "['Alireza_2', 'Zhongxu', 'Veronica', 'Amir']\n",
      "['BYE', [1, 2, 3, 4]]\n",
      "['Alireza_2', 'Zhongxu', 'Veronica', 'Amir']\n"
     ]
    }
   ],
   "source": [
    "## why does all this matter? \n",
    "\n",
    "names = ['Ali','Zhongxu','Veronica','Amir']\n",
    "meaningless_numbers = [1,2,3,4]\n",
    "\n",
    "useful = [names,meaningless_numbers]\n",
    "print(useful)\n",
    "names[0] = 'Alireza'\n",
    "print(useful)\n",
    "useful[0][0] = 'Alireza_2'\n",
    "print(useful)\n",
    "print(names)\n",
    "useful[0] = 'BYE'\n",
    "print(useful)\n",
    "print(names)\n",
    "\n",
    "\n",
    "#names = ('Ali','Zhongxu','Veronica','Amir')\n",
    "#meaningless_numbers = (1,2,3,4)\n",
    "#useful = (names,meaningless_numbers)\n",
    "#print(useful)\n",
    "#names = ('Alireza','Zhongxu','Veronica','Amir')\n",
    "#print(useful)\n",
    "\n",
    "useful = [1,2,3,4,5]\n",
    "useful.append(6)\n",
    "useful.count(6)\n",
    "useful.insert(2,6)\n",
    "useful.extend([1,2,3])\n",
    "useful.remove(6)\n",
    "useful.index(6)\n",
    "useful.pop(0)\n",
    "useful.sort()\n",
    "sorted(useful)  # difference between sorted and sort\n",
    "useful.reverse()\n",
    "\n"
   ]
  },
  {
   "cell_type": "code",
   "execution_count": 55,
   "metadata": {},
   "outputs": [
    {
     "name": "stdout",
     "output_type": "stream",
     "text": [
      "[2, 3, 4]\n"
     ]
    }
   ],
   "source": [
    "list_1 = [1,2,3,4]\n",
    "for _ in list_1:\n",
    "    if _ in [1,2,5,6]:\n",
    "        list_1.remove(_)\n",
    "\n",
    "print(list_1)"
   ]
  },
  {
   "cell_type": "code",
   "execution_count": 65,
   "metadata": {},
   "outputs": [
    {
     "name": "stdout",
     "output_type": "stream",
     "text": [
      "[2, 3, 4]\n",
      "4573465928 4573465928\n"
     ]
    }
   ],
   "source": [
    "list_1 = [1,2,3,4]\n",
    "new_list = list_1\n",
    "for _ in list_1:\n",
    "    if _ in [1,2,5,6]:\n",
    "        new_list.remove(_)\n",
    "\n",
    "print(new_list)\n",
    "\n",
    "print(id(new_list), id(list_1))\n",
    "\n"
   ]
  },
  {
   "cell_type": "code",
   "execution_count": 69,
   "metadata": {},
   "outputs": [
    {
     "name": "stdout",
     "output_type": "stream",
     "text": [
      "[3, 4]\n",
      "4573506568 4573396360\n"
     ]
    }
   ],
   "source": [
    "list_1 = [1,2,3,4]\n",
    "new_list = list_1.copy()\n",
    "#new_list = list_1[:]\n",
    "\n",
    "for _ in list_1:\n",
    "    if _ in [1,2,5,6]:\n",
    "        new_list.remove(_)\n",
    "        \n",
    "print(new_list)\n",
    "\n",
    "print(id(new_list), id(list_1))\n"
   ]
  },
  {
   "cell_type": "markdown",
   "metadata": {},
   "source": [
    "### Dictionaries \n",
    "\n",
    "lists that are indexed with \"keys\""
   ]
  },
  {
   "cell_type": "code",
   "execution_count": 101,
   "metadata": {},
   "outputs": [
    {
     "name": "stdout",
     "output_type": "stream",
     "text": [
      "jan\n",
      "1\n"
     ]
    }
   ],
   "source": [
    "#list \n",
    "\n",
    "Months = {'jan': 1, 'feb': 2, 'mar': 3, 1: 'jan', 2:'feb', 3:'Mar'}\n",
    "print(Months[1])\n",
    "print(Months['jan'])"
   ]
  },
  {
   "cell_type": "code",
   "execution_count": 98,
   "metadata": {},
   "outputs": [
    {
     "name": "stdout",
     "output_type": "stream",
     "text": [
      "jan\n",
      "feb\n",
      "mar\n",
      "1\n",
      "2\n",
      "3\n"
     ]
    }
   ],
   "source": [
    "[print(_) for _ in Months];"
   ]
  },
  {
   "cell_type": "code",
   "execution_count": 105,
   "metadata": {},
   "outputs": [
    {
     "name": "stdout",
     "output_type": "stream",
     "text": [
      "dict_keys(['jan', 'feb', 'mar', 1, 2, 3])\n",
      "dict_keys(['jan', 'feb', 'mar', 1, 2, 3, 'April'])\n",
      "['jan', 'feb', 'mar', 1, 2, 3, 'April']\n"
     ]
    }
   ],
   "source": [
    "months =Months.keys()\n",
    "print(months)\n",
    "Months['April'] = 0\n",
    "print(months)\n",
    "print(list(months))\n",
    "\n"
   ]
  },
  {
   "cell_type": "code",
   "execution_count": 128,
   "metadata": {},
   "outputs": [
    {
     "name": "stdout",
     "output_type": "stream",
     "text": [
      "1043773117693489569\n",
      "1\n",
      "True\n"
     ]
    },
    {
     "ename": "KeyError",
     "evalue": "'May'",
     "output_type": "error",
     "traceback": [
      "\u001b[0;31m---------------------------------------------------------------------------\u001b[0m",
      "\u001b[0;31mKeyError\u001b[0m                                  Traceback (most recent call last)",
      "\u001b[0;32m<ipython-input-128-eb98c209e148>\u001b[0m in \u001b[0;36m<module>\u001b[0;34m()\u001b[0m\n\u001b[1;32m      7\u001b[0m \u001b[0;34m'jan'\u001b[0m \u001b[0;32min\u001b[0m \u001b[0mMonths\u001b[0m\u001b[0;34m\u001b[0m\u001b[0m\n\u001b[1;32m      8\u001b[0m \u001b[0mMonths\u001b[0m\u001b[0;34m.\u001b[0m\u001b[0mget\u001b[0m\u001b[0;34m(\u001b[0m\u001b[0;34m'May'\u001b[0m\u001b[0;34m,\u001b[0m \u001b[0;36m5\u001b[0m\u001b[0;34m)\u001b[0m\u001b[0;34m\u001b[0m\u001b[0m\n\u001b[0;32m----> 9\u001b[0;31m \u001b[0;32mdel\u001b[0m \u001b[0mMonths\u001b[0m\u001b[0;34m[\u001b[0m\u001b[0;34m'May'\u001b[0m\u001b[0;34m]\u001b[0m\u001b[0;34m\u001b[0m\u001b[0m\n\u001b[0m",
      "\u001b[0;31mKeyError\u001b[0m: 'May'"
     ]
    }
   ],
   "source": [
    "print(list(months)[0].__hash__())\n",
    "print(list(months)[3].__hash__())\n",
    "print(list(months)[3].__eq__(1))\n",
    "\n",
    "len(Months)\n",
    "Months.values()\n",
    "'jan' in Months\n",
    "Months.get('May', 5)\n",
    "del Months['May']"
   ]
  },
  {
   "cell_type": "markdown",
   "metadata": {},
   "source": []
  },
  {
   "cell_type": "markdown",
   "metadata": {},
   "source": [
    "## Pandas Series"
   ]
  },
  {
   "cell_type": "code",
   "execution_count": 4,
   "metadata": {},
   "outputs": [],
   "source": [
    "import pandas as pd "
   ]
  },
  {
   "cell_type": "code",
   "execution_count": 7,
   "metadata": {},
   "outputs": [],
   "source": [
    "temp_ser = pd.Series([30,45,60], name = 'Temperature')"
   ]
  },
  {
   "cell_type": "code",
   "execution_count": 9,
   "metadata": {},
   "outputs": [
    {
     "data": {
      "text/plain": [
       "0    30\n",
       "1    45\n",
       "2    60\n",
       "Name: Temperature, dtype: int64"
      ]
     },
     "execution_count": 9,
     "metadata": {},
     "output_type": "execute_result"
    }
   ],
   "source": [
    "temp_ser"
   ]
  },
  {
   "cell_type": "code",
   "execution_count": 10,
   "metadata": {},
   "outputs": [
    {
     "data": {
      "text/plain": [
       "135"
      ]
     },
     "execution_count": 10,
     "metadata": {},
     "output_type": "execute_result"
    }
   ],
   "source": [
    "temp_ser.sum()"
   ]
  },
  {
   "cell_type": "markdown",
   "metadata": {},
   "source": [
    "## Boolean array"
   ]
  },
  {
   "cell_type": "code",
   "execution_count": 13,
   "metadata": {},
   "outputs": [
    {
     "data": {
      "text/plain": [
       "2    60\n",
       "Name: Temperature, dtype: int64"
      ]
     },
     "execution_count": 13,
     "metadata": {},
     "output_type": "execute_result"
    }
   ],
   "source": [
    "hot = pd.Series([False,False,True,True])\n",
    "temp_ser[hot]"
   ]
  },
  {
   "cell_type": "code",
   "execution_count": 15,
   "metadata": {},
   "outputs": [],
   "source": [
    "mask = temp_ser > 55\n",
    "mask_2 = temp_ser < 90"
   ]
  },
  {
   "cell_type": "code",
   "execution_count": 17,
   "metadata": {},
   "outputs": [
    {
     "data": {
      "text/plain": [
       "0    30\n",
       "1    45\n",
       "2    60\n",
       "Name: Temperature, dtype: int64"
      ]
     },
     "execution_count": 17,
     "metadata": {},
     "output_type": "execute_result"
    }
   ],
   "source": [
    "temp_ser [ mask | mask_2]"
   ]
  },
  {
   "cell_type": "markdown",
   "metadata": {},
   "source": [
    "## Index"
   ]
  },
  {
   "cell_type": "code",
   "execution_count": 18,
   "metadata": {},
   "outputs": [
    {
     "data": {
      "text/plain": [
       "RangeIndex(start=0, stop=3, step=1)"
      ]
     },
     "execution_count": 18,
     "metadata": {},
     "output_type": "execute_result"
    }
   ],
   "source": [
    "temp_ser.index"
   ]
  },
  {
   "cell_type": "code",
   "execution_count": 21,
   "metadata": {},
   "outputs": [
    {
     "data": {
      "text/plain": [
       "M    1\n",
       "T    2\n",
       "W    3\n",
       "Name: temp2, dtype: int64"
      ]
     },
     "execution_count": 21,
     "metadata": {},
     "output_type": "execute_result"
    }
   ],
   "source": [
    "temp2 = pd.Series([1,2,3], name = 'temp2', index = ['M', 'T', 'W'])\n",
    "temp2"
   ]
  },
  {
   "cell_type": "code",
   "execution_count": 28,
   "metadata": {},
   "outputs": [],
   "source": [
    "dates = pd.date_range('21060101', periods = 4)\n",
    "temp3 = pd.Series([1,2,3,4], name = 'Temp3', index = dates)"
   ]
  },
  {
   "cell_type": "code",
   "execution_count": 29,
   "metadata": {},
   "outputs": [
    {
     "data": {
      "text/plain": [
       "2106-01-01    1\n",
       "2106-01-02    2\n",
       "2106-01-03    3\n",
       "2106-01-04    4\n",
       "Freq: D, Name: Temp3, dtype: int64"
      ]
     },
     "execution_count": 29,
     "metadata": {},
     "output_type": "execute_result"
    }
   ],
   "source": [
    "temp3"
   ]
  },
  {
   "cell_type": "code",
   "execution_count": 30,
   "metadata": {},
   "outputs": [
    {
     "data": {
      "text/plain": [
       "DatetimeIndex(['2106-01-01', '2106-01-02', '2106-01-03', '2106-01-04'], dtype='datetime64[ns]', freq='D')"
      ]
     },
     "execution_count": 30,
     "metadata": {},
     "output_type": "execute_result"
    }
   ],
   "source": [
    "temp3.index"
   ]
  },
  {
   "cell_type": "code",
   "execution_count": null,
   "metadata": {},
   "outputs": [],
   "source": []
  }
 ],
 "metadata": {
  "kernelspec": {
   "display_name": "Python 3",
   "language": "python",
   "name": "python3"
  },
  "language_info": {
   "codemirror_mode": {
    "name": "ipython",
    "version": 3
   },
   "file_extension": ".py",
   "mimetype": "text/x-python",
   "name": "python",
   "nbconvert_exporter": "python",
   "pygments_lexer": "ipython3",
   "version": "3.6.4"
  }
 },
 "nbformat": 4,
 "nbformat_minor": 2
}
