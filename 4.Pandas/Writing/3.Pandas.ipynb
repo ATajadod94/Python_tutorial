{
 "cells": [
  {
   "cell_type": "markdown",
   "metadata": {},
   "source": [
    "## Strctured types"
   ]
  },
  {
   "cell_type": "code",
   "execution_count": 2,
   "metadata": {},
   "outputs": [
    {
     "name": "stdout",
     "output_type": "stream",
     "text": [
      "H\n"
     ]
    }
   ],
   "source": [
    "number = 2301391209\n",
    "word = 'Hi, this is Ali'\n",
    "print(word[0])\n",
    "#print(number[0])\n"
   ]
  },
  {
   "cell_type": "code",
   "execution_count": 3,
   "metadata": {},
   "outputs": [
    {
     "ename": "TypeError",
     "evalue": "'str' object does not support item assignment",
     "output_type": "error",
     "traceback": [
      "\u001b[0;31m---------------------------------------------------------------------------\u001b[0m",
      "\u001b[0;31mTypeError\u001b[0m                                 Traceback (most recent call last)",
      "\u001b[0;32m<ipython-input-3-fcb5316c5670>\u001b[0m in \u001b[0;36m<module>\u001b[0;34m()\u001b[0m\n\u001b[0;32m----> 1\u001b[0;31m \u001b[0mword\u001b[0m\u001b[0;34m[\u001b[0m\u001b[0;36m0\u001b[0m\u001b[0;34m]\u001b[0m \u001b[0;34m=\u001b[0m \u001b[0;34m'b'\u001b[0m \u001b[0;31m## strings are ** immutable **\u001b[0m\u001b[0;34m\u001b[0m\u001b[0m\n\u001b[0m",
      "\u001b[0;31mTypeError\u001b[0m: 'str' object does not support item assignment"
     ]
    }
   ],
   "source": [
    "word[0] = 'b' ## strings are ** immutable ** "
   ]
  },
  {
   "cell_type": "markdown",
   "metadata": {},
   "source": [
    "### tuples"
   ]
  },
  {
   "cell_type": "code",
   "execution_count": null,
   "metadata": {},
   "outputs": [],
   "source": [
    "t1 = () \n",
    "t2 = (1, 'two', 2)\n",
    "\n",
    "t3 = (t2,3.25)\n",
    "\n",
    "print(t3)\n",
    "print(t2 + t3)\n",
    "print((t2 + t3)[3])\n",
    "print((t2 + t3)[2:5])"
   ]
  },
  {
   "cell_type": "code",
   "execution_count": null,
   "metadata": {},
   "outputs": [],
   "source": [
    "t2[0] = 'Ali'"
   ]
  },
  {
   "cell_type": "code",
   "execution_count": null,
   "metadata": {},
   "outputs": [],
   "source": [
    "[_ for _ in (t2+t3)]"
   ]
  },
  {
   "cell_type": "code",
   "execution_count": null,
   "metadata": {},
   "outputs": [],
   "source": [
    "x,y = 2,3\n",
    "print(x,y)\n",
    "\n",
    "\n",
    "x,y = (2,3)\n",
    "print(x,y)\n",
    "\n",
    "x,y,z = t2\n",
    "print(x,y,z)\n"
   ]
  },
  {
   "cell_type": "code",
   "execution_count": null,
   "metadata": {},
   "outputs": [],
   "source": [
    "### Ranges\n",
    "start, stop, step = (1,10,2)\n",
    "range(start,stop,step)"
   ]
  },
  {
   "cell_type": "code",
   "execution_count": null,
   "metadata": {},
   "outputs": [],
   "source": [
    "range(10)[2:6]"
   ]
  },
  {
   "cell_type": "code",
   "execution_count": null,
   "metadata": {},
   "outputs": [],
   "source": [
    "range(10)[2:6][2]"
   ]
  },
  {
   "cell_type": "code",
   "execution_count": null,
   "metadata": {},
   "outputs": [],
   "source": [
    "print(range(0,7,2) == range(0,8,2))\n",
    "print(range(0,7,2) == range(6,-1,-2))"
   ]
  },
  {
   "cell_type": "markdown",
   "metadata": {},
   "source": [
    "### lists"
   ]
  },
  {
   "cell_type": "code",
   "execution_count": null,
   "metadata": {},
   "outputs": [],
   "source": [
    "t1 = [] \n",
    "t2 = [1, 'two', 2]\n",
    "\n",
    "t3 = [t2,3.25]\n",
    "\n",
    "\n",
    "print(t3)\n",
    "print(t2 + t3)\n",
    "print((t2 + t3)[3])\n",
    "print((t2 + t3)[2:5])"
   ]
  },
  {
   "cell_type": "code",
   "execution_count": null,
   "metadata": {},
   "outputs": [],
   "source": [
    "# lists ARE mutable\n",
    "print(t2)\n",
    "t2[0] = 'Ali'\n",
    "print(t2)"
   ]
  },
  {
   "cell_type": "code",
   "execution_count": null,
   "metadata": {},
   "outputs": [],
   "source": [
    "## why does all this matter? \n",
    "\n",
    "names = ['Ali','Zhongxu','Veronica','Amir']\n",
    "meaningless_numbers = [1,2,3,4]\n",
    "\n",
    "useful = [names,meaningless_numbers]\n",
    "print(useful)\n",
    "names[0] = 'Alireza'\n",
    "print(useful)\n",
    "useful[0][0] = 'Alireza_2'\n",
    "print(useful)\n",
    "print(names)\n",
    "useful[0] = 'BYE'\n",
    "print(useful)\n",
    "print(names)\n",
    "\n",
    "\n",
    "#names = ('Ali','Zhongxu','Veronica','Amir')\n",
    "#meaningless_numbers = (1,2,3,4)\n",
    "#useful = (names,meaningless_numbers)\n",
    "#print(useful)\n",
    "#names = ('Alireza','Zhongxu','Veronica','Amir')\n",
    "#print(useful)\n",
    "\n",
    "useful = [1,2,3,4,5]\n",
    "useful.append(6)\n",
    "useful.count(6)\n",
    "useful.insert(2,6)\n",
    "useful.extend([1,2,3])\n",
    "useful.remove(6)\n",
    "useful.index(6)\n",
    "useful.pop(0)\n",
    "useful.sort()\n",
    "sorted(useful)  # difference between sorted and sort\n",
    "useful.reverse()\n",
    "\n"
   ]
  },
  {
   "cell_type": "code",
   "execution_count": null,
   "metadata": {},
   "outputs": [],
   "source": [
    "list_1 = [1,2,3,4]\n",
    "for _ in list_1:\n",
    "    if _ in [1,2,5,6]:\n",
    "        list_1.remove(_)\n",
    "\n",
    "print(list_1)"
   ]
  },
  {
   "cell_type": "code",
   "execution_count": null,
   "metadata": {},
   "outputs": [],
   "source": [
    "list_1 = [1,2,3,4]\n",
    "new_list = list_1\n",
    "for _ in list_1:\n",
    "    if _ in [1,2,5,6]:\n",
    "        new_list.remove(_)\n",
    "\n",
    "print(new_list)\n",
    "\n",
    "print(id(new_list), id(list_1))\n",
    "\n"
   ]
  },
  {
   "cell_type": "code",
   "execution_count": null,
   "metadata": {},
   "outputs": [],
   "source": [
    "list_1 = [1,2,3,4]\n",
    "new_list = list_1.copy()\n",
    "#new_list = list_1[:]\n",
    "\n",
    "for _ in list_1:\n",
    "    if _ in [1,2,5,6]:\n",
    "        new_list.remove(_)\n",
    "        \n",
    "print(new_list)\n",
    "\n",
    "print(id(new_list), id(list_1))\n"
   ]
  },
  {
   "cell_type": "markdown",
   "metadata": {},
   "source": [
    "### Dictionaries \n",
    "\n",
    "lists that are indexed with \"keys\""
   ]
  },
  {
   "cell_type": "code",
   "execution_count": null,
   "metadata": {},
   "outputs": [],
   "source": [
    "#list \n",
    "\n",
    "Months = {'jan': 1, 'feb': 2, 'mar': 3, 1: 'jan', 2:'feb', 3:'Mar'}\n",
    "print(Months[1])\n",
    "print(Months['jan'])"
   ]
  },
  {
   "cell_type": "code",
   "execution_count": null,
   "metadata": {},
   "outputs": [],
   "source": [
    "[print(_) for _ in Months];"
   ]
  },
  {
   "cell_type": "code",
   "execution_count": null,
   "metadata": {},
   "outputs": [],
   "source": [
    "months =Months.keys()\n",
    "print(months)\n",
    "Months['April'] = 0\n",
    "print(months)\n",
    "print(list(months))\n",
    "\n"
   ]
  },
  {
   "cell_type": "code",
   "execution_count": null,
   "metadata": {},
   "outputs": [],
   "source": [
    "print(list(months)[0].__hash__())\n",
    "print(list(months)[3].__hash__())\n",
    "print(list(months)[3].__eq__(1))\n",
    "\n",
    "len(Months)\n",
    "Months.values()\n",
    "'jan' in Months\n",
    "Months.get('May', 5)\n",
    "del Months['May']"
   ]
  },
  {
   "cell_type": "markdown",
   "metadata": {},
   "source": []
  },
  {
   "cell_type": "markdown",
   "metadata": {},
   "source": [
    "## Pandas Series"
   ]
  },
  {
   "cell_type": "code",
   "execution_count": null,
   "metadata": {},
   "outputs": [],
   "source": [
    "import pandas as pd "
   ]
  },
  {
   "cell_type": "code",
   "execution_count": null,
   "metadata": {},
   "outputs": [],
   "source": [
    "temp_ser = pd.Series([30,45,60], name = 'Temperature')"
   ]
  },
  {
   "cell_type": "code",
   "execution_count": null,
   "metadata": {},
   "outputs": [],
   "source": [
    "temp_ser"
   ]
  },
  {
   "cell_type": "code",
   "execution_count": null,
   "metadata": {},
   "outputs": [],
   "source": [
    "temp_ser.sum()"
   ]
  },
  {
   "cell_type": "markdown",
   "metadata": {},
   "source": [
    "## Boolean array"
   ]
  },
  {
   "cell_type": "code",
   "execution_count": null,
   "metadata": {},
   "outputs": [],
   "source": [
    "hot = pd.Series([False,False,True,True])\n",
    "temp_ser[hot]"
   ]
  },
  {
   "cell_type": "code",
   "execution_count": null,
   "metadata": {},
   "outputs": [],
   "source": [
    "mask = temp_ser > 55\n",
    "mask_2 = temp_ser < 90"
   ]
  },
  {
   "cell_type": "code",
   "execution_count": null,
   "metadata": {},
   "outputs": [],
   "source": [
    "temp_ser [ mask | mask_2]"
   ]
  },
  {
   "cell_type": "markdown",
   "metadata": {},
   "source": [
    "## Index"
   ]
  },
  {
   "cell_type": "code",
   "execution_count": null,
   "metadata": {},
   "outputs": [],
   "source": [
    "temp_ser.index"
   ]
  },
  {
   "cell_type": "code",
   "execution_count": null,
   "metadata": {},
   "outputs": [],
   "source": [
    "temp2 = pd.Series([1,2,3], name = 'temp2', index = ['M', 'T', 'W'])\n",
    "temp2"
   ]
  },
  {
   "cell_type": "code",
   "execution_count": null,
   "metadata": {},
   "outputs": [],
   "source": [
    "dates = pd.date_range('21060101', periods = 4)\n",
    "temp3 = pd.Series([1,2,3,4], name = 'Temp3', index = dates)"
   ]
  },
  {
   "cell_type": "code",
   "execution_count": null,
   "metadata": {},
   "outputs": [],
   "source": [
    "temp3"
   ]
  },
  {
   "cell_type": "code",
   "execution_count": null,
   "metadata": {},
   "outputs": [],
   "source": [
    "temp3.index"
   ]
  },
  {
   "cell_type": "markdown",
   "metadata": {},
   "source": [
    "## Data Types"
   ]
  },
  {
   "cell_type": "code",
   "execution_count": 8,
   "metadata": {},
   "outputs": [
    {
     "name": "stdout",
     "output_type": "stream",
     "text": [
      "int64 float64 object\n"
     ]
    }
   ],
   "source": [
    "import pandas as pd\n",
    "ser = pd.Series(range(10))\n",
    "ser2 = pd.Series([1.1,2,3,4])\n",
    "ser3 = pd.Series(['a','b','c'])\n",
    "\n",
    "print(ser.dtype, ser2.dtype, ser3.dtype)"
   ]
  },
  {
   "cell_type": "code",
   "execution_count": 12,
   "metadata": {},
   "outputs": [
    {
     "name": "stdout",
     "output_type": "stream",
     "text": [
      "object\n"
     ]
    }
   ],
   "source": [
    "ser4 = pd.Series([1,'a',{}])\n",
    "print(ser4.dtype)"
   ]
  },
  {
   "cell_type": "code",
   "execution_count": 13,
   "metadata": {},
   "outputs": [],
   "source": [
    "ser5 = pd.Series(['2015-01-01','2016-01-01'])\n",
    "ser6 = pd.to_datetime(ser5)"
   ]
  },
  {
   "cell_type": "code",
   "execution_count": 14,
   "metadata": {},
   "outputs": [
    {
     "name": "stdout",
     "output_type": "stream",
     "text": [
      "object datetime64[ns]\n"
     ]
    }
   ],
   "source": [
    "print(ser5.dtype, ser6.dtype)"
   ]
  },
  {
   "cell_type": "code",
   "execution_count": 18,
   "metadata": {},
   "outputs": [
    {
     "name": "stdout",
     "output_type": "stream",
     "text": [
      "0     Prius\n",
      "1    Accord\n",
      "2     Prius\n",
      "3     Camry\n",
      "dtype: category\n",
      "Categories (3, object): [Accord, Camry, Prius]\n"
     ]
    }
   ],
   "source": [
    "ser7 = pd.Series(['Prius','Accord','Prius','Camry'], dtype = 'category')\n",
    "print(ser7)"
   ]
  },
  {
   "cell_type": "code",
   "execution_count": 23,
   "metadata": {},
   "outputs": [
    {
     "name": "stdout",
     "output_type": "stream",
     "text": [
      "30 30\n",
      "45 45\n",
      "60 60\n",
      "90 90\n"
     ]
    }
   ],
   "source": [
    "temps = [30,45,60,90]\n",
    "s = pd.Series(temps)\n",
    "for num_panda,num_temp in zip(s,temps):\n",
    "    print(num_panda,num_temp)"
   ]
  },
  {
   "cell_type": "code",
   "execution_count": 29,
   "metadata": {},
   "outputs": [
    {
     "name": "stdout",
     "output_type": "stream",
     "text": [
      "False\n",
      "True\n",
      "True\n",
      "True\n"
     ]
    }
   ],
   "source": [
    "print(45 in s)\n",
    "print(2 in s)  # the \"in\" checks index\n",
    "print(45 in s.values)\n",
    "print(45 in set(s))"
   ]
  },
  {
   "cell_type": "code",
   "execution_count": 30,
   "metadata": {},
   "outputs": [
    {
     "data": {
      "text/plain": [
       "{0: 30, 1: 45, 2: 60, 3: 90}"
      ]
     },
     "execution_count": 30,
     "metadata": {},
     "output_type": "execute_result"
    }
   ],
   "source": [
    "dict(s)"
   ]
  },
  {
   "cell_type": "code",
   "execution_count": 31,
   "metadata": {},
   "outputs": [
    {
     "name": "stdout",
     "output_type": "stream",
     "text": [
      "0 30\n",
      "1 45\n",
      "2 60\n",
      "3 90\n"
     ]
    }
   ],
   "source": [
    "for i,val in s.iteritems():\n",
    "    print(i,val)"
   ]
  },
  {
   "cell_type": "markdown",
   "metadata": {},
   "source": [
    "## Broadcasting in pandas (numpy)"
   ]
  },
  {
   "cell_type": "code",
   "execution_count": 36,
   "metadata": {},
   "outputs": [
    {
     "name": "stdout",
     "output_type": "stream",
     "text": [
      "0    32\n",
      "1    47\n",
      "2    62\n",
      "3    92\n",
      "dtype: int64\n",
      "0    0\n",
      "1    0\n",
      "2    0\n",
      "3    0\n",
      "dtype: int64\n",
      "0     7.50\n",
      "1    11.25\n",
      "2    15.00\n",
      "3    22.50\n",
      "dtype: float64\n",
      "0    2\n",
      "1    1\n",
      "2    0\n",
      "3    2\n",
      "dtype: int64\n",
      "0    False\n",
      "1    False\n",
      "2    False\n",
      "3    False\n",
      "dtype: bool\n",
      "0    True\n",
      "1    True\n",
      "2    True\n",
      "3    True\n",
      "dtype: bool\n"
     ]
    }
   ],
   "source": [
    "print(s+2)\n",
    "print(s-s)\n",
    "print(s/4)\n",
    "print(s%4)\n",
    "print(s==4)\n",
    "print(s > 4)"
   ]
  },
  {
   "cell_type": "code",
   "execution_count": 38,
   "metadata": {},
   "outputs": [
    {
     "name": "stdout",
     "output_type": "stream",
     "text": [
      "[30, 45, 60, 90]\n",
      "[30, 45, 60, 90, 30, 45, 60, 90]\n"
     ]
    },
    {
     "ename": "TypeError",
     "evalue": "can only concatenate list (not \"int\") to list",
     "output_type": "error",
     "traceback": [
      "\u001b[0;31m---------------------------------------------------------------------------\u001b[0m",
      "\u001b[0;31mTypeError\u001b[0m                                 Traceback (most recent call last)",
      "\u001b[0;32m<ipython-input-38-8ac1c0cbf84f>\u001b[0m in \u001b[0;36m<module>\u001b[0;34m()\u001b[0m\n\u001b[1;32m      1\u001b[0m \u001b[0mprint\u001b[0m\u001b[0;34m(\u001b[0m\u001b[0mtemps\u001b[0m\u001b[0;34m)\u001b[0m\u001b[0;34m\u001b[0m\u001b[0m\n\u001b[1;32m      2\u001b[0m \u001b[0mprint\u001b[0m\u001b[0;34m(\u001b[0m\u001b[0mtemps\u001b[0m \u001b[0;34m*\u001b[0m \u001b[0;36m2\u001b[0m\u001b[0;34m)\u001b[0m\u001b[0;34m\u001b[0m\u001b[0m\n\u001b[0;32m----> 3\u001b[0;31m \u001b[0mprint\u001b[0m\u001b[0;34m(\u001b[0m\u001b[0mtemps\u001b[0m \u001b[0;34m+\u001b[0m \u001b[0;36m2\u001b[0m\u001b[0;34m)\u001b[0m\u001b[0;34m\u001b[0m\u001b[0m\n\u001b[0m",
      "\u001b[0;31mTypeError\u001b[0m: can only concatenate list (not \"int\") to list"
     ]
    }
   ],
   "source": [
    "print(temps)\n",
    "print(temps * 2)\n",
    "print(temps + 2)"
   ]
  },
  {
   "cell_type": "code",
   "execution_count": 39,
   "metadata": {},
   "outputs": [],
   "source": [
    "s2 = pd.Series([10,20,30], index = [2,3,4])"
   ]
  },
  {
   "cell_type": "code",
   "execution_count": 41,
   "metadata": {},
   "outputs": [
    {
     "data": {
      "text/plain": [
       "0      NaN\n",
       "1      NaN\n",
       "2     70.0\n",
       "3    110.0\n",
       "4      NaN\n",
       "dtype: float64"
      ]
     },
     "execution_count": 41,
     "metadata": {},
     "output_type": "execute_result"
    }
   ],
   "source": [
    "s + s2  #aligned by index! "
   ]
  },
  {
   "cell_type": "code",
   "execution_count": 44,
   "metadata": {},
   "outputs": [
    {
     "data": {
      "text/plain": [
       "0    32\n",
       "1    47\n",
       "2    62\n",
       "3    92\n",
       "dtype: int64"
      ]
     },
     "execution_count": 44,
     "metadata": {},
     "output_type": "execute_result"
    }
   ],
   "source": [
    "def add_2(val):\n",
    "    return val + 2\n",
    "\n",
    "s.apply(add_2)  # in python, functions are first class objects \n",
    "\n",
    "# s + 2 here would be a lot offaster as it relies on the underlying c code  as opposed to reading your python function"
   ]
  },
  {
   "cell_type": "code",
   "execution_count": null,
   "metadata": {},
   "outputs": [],
   "source": []
  }
 ],
 "metadata": {
  "kernelspec": {
   "display_name": "Python 3",
   "language": "python",
   "name": "python3"
  },
  "language_info": {
   "codemirror_mode": {
    "name": "ipython",
    "version": 3
   },
   "file_extension": ".py",
   "mimetype": "text/x-python",
   "name": "python",
   "nbconvert_exporter": "python",
   "pygments_lexer": "ipython3",
   "version": "3.6.4"
  }
 },
 "nbformat": 4,
 "nbformat_minor": 2
}
