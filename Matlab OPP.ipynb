{
 "cells": [
  {
   "cell_type": "markdown",
   "metadata": {},
   "source": [
    "## Object Oriented Malab programming \n",
    "\n",
    "###  1. Objects \n"
   ]
  },
  {
   "cell_type": "code",
   "execution_count": 13,
   "metadata": {},
   "outputs": [
    {
     "name": "stdout",
     "output_type": "stream",
     "text": [
      "\n",
      "a =\n",
      "\n",
      "     2\n",
      "\n",
      "\n",
      "ans =\n",
      "\n",
      "    'double'\n",
      "\n"
     ]
    }
   ],
   "source": [
    "a = 2\n",
    "class(a)"
   ]
  },
  {
   "cell_type": "code",
   "execution_count": 14,
   "metadata": {},
   "outputs": [
    {
     "name": "stdout",
     "output_type": "stream",
     "text": [
      "\n",
      "Methods for class double:\n",
      "\n",
      "abs               cscd              hess              polylog           \n",
      "accumarray        csch              hypot             pow2              \n",
      "acos              ctranspose        ichol             power             \n",
      "acosd             cummax            igamma            psi               \n",
      "acosh             cummin            ilu               qrupdate          \n",
      "acot              cumprod           imag              rcond             \n",
      "acotd             cumsum            inv               rdivide           \n",
      "acoth             dawson            isbanded          real              \n",
      "acsc              delete            isdiag            reallog           \n",
      "acscd             det               isfinite          realpow           \n",
      "acsch             diag              isinf             realsqrt          \n",
      "airy              diff              isnan             rectangularPulse  \n",
      "all               dilog             issorted          rem               \n",
      "amd               dirac             issortedrows      reshape           \n",
      "and               display           istril            round             \n",
      "any               divisors          istriu            sec               \n",
      "asec              dmperm            jacobiP           secd              \n",
      "asecd             ei                jordan            sech              \n",
      "asech             ellipticCE        kummerU           sign              \n",
      "asin              ellipticCK        laguerreL         signIm            \n",
      "asind             ellipticCPi       ldivide           sin               \n",
      "asinh             ellipticE         le                sind              \n",
      "atan              ellipticF         legendreP         sinh              \n",
      "atan2             ellipticK         linsolve          sinhint           \n",
      "atan2d            ellipticNome      log               sinint            \n",
      "atand             ellipticPi        log10             sort              \n",
      "atanh             eps               log1p             sortrowsc         \n",
      "bernoulli         eq                log2              sparse            \n",
      "besselh           erf               logint            sqrt              \n",
      "besseli           erfc              lt                ssinint           \n",
      "besselj           erfcinv           ltitr             superiorfloat     \n",
      "besselk           erfcx             maxk              symrcm            \n",
      "bessely           erfi              mink              tan               \n",
      "betainc           erfinv            minpoly           tand              \n",
      "betaincinv        euler             minus             tanh              \n",
      "bsxfun            exp               mldivide          times             \n",
      "ceil              expm1             mod               transpose         \n",
      "charpoly          find              mpower            triangularPulse   \n",
      "chebyshevT        fix               mrdivide          tril              \n",
      "chebyshevU        floor             mtimes            triu              \n",
      "colon             fresnelc          ne                uminus            \n",
      "conj              fresnels          nnz               uplus             \n",
      "cos               gamma             nonzeros          whittakerM        \n",
      "cosd              gammainc          not               whittakerW        \n",
      "cosh              gammaincinv       nzmax             wrightOmega       \n",
      "coshint           gammaln           or                xor               \n",
      "cosint            ge                ordeig            zeta              \n",
      "cot               gegenbauerC       permute           \n",
      "cotd              gt                plus              \n",
      "coth              harmonic          pochhammer        \n",
      "csc               hermiteH          poly2sym          \n",
      "\n"
     ]
    }
   ],
   "source": [
    "methods(a)"
   ]
  },
  {
   "cell_type": "code",
   "execution_count": 16,
   "metadata": {},
   "outputs": [
    {
     "name": "stdout",
     "output_type": "stream",
     "text": [
      "\n",
      "ans =\n",
      "\n",
      "    0.3010\n",
      "\n"
     ]
    }
   ],
   "source": [
    "log10(a)"
   ]
  },
  {
   "cell_type": "markdown",
   "metadata": {},
   "source": [
    "#### Examples from Alitrack"
   ]
  },
  {
   "cell_type": "code",
   "execution_count": 5,
   "metadata": {},
   "outputs": [
    {
     "name": "stdout",
     "output_type": "stream",
     "text": [
      "Importing file /Users/ryanlab/Desktop/AliT/Data/ALITracker_Data/aj031ro/aj031ro.edf...\n",
      "Loading 70 trials [|         ||        |||       ||||      |||||     ||||||    |||||||   ||||||||  ||||||||| ||||||||||]\n",
      "Truncating samples to exclude empty ones\n",
      "done!\n"
     ]
    }
   ],
   "source": [
    "p_folder = '/Users/ryanlab/Desktop/AliT/Data/ALITracker_Data/aj031ro/aj031ro.edf';\n",
    "myparticipant = participant(p_folder, 'samples', true);\n"
   ]
  },
  {
   "cell_type": "code",
   "execution_count": 6,
   "metadata": {},
   "outputs": [],
   "source": [
    "%Object orieneted easy to read code, easy to us\n",
    "myparticipant.set_trial_features(1:70,'start_event',\"Study_display\", 'end_event', \"Study_timer\")"
   ]
  },
  {
   "cell_type": "code",
   "execution_count": 7,
   "metadata": {},
   "outputs": [
    {
     "name": "stdout",
     "output_type": "stream",
     "text": [
      "\n",
      "new_trial = \n",
      "\n",
      "  trial with properties:\n",
      "\n",
      "                 parent: [1x1 participant]\n",
      "                   data: []\n",
      "               trial_no: 1\n",
      "        trial_fieldname: 'trial_1'\n",
      "            num_samples: 3992\n",
      "                  index: [1x3992 uint32]\n",
      "            sample_time: [1x3992 uint32]\n",
      "             trial_time: [1x3992 uint32]\n",
      "                      x: [1x3992 double]\n",
      "                      y: [1x3992 double]\n",
      "                    rho: []\n",
      "                  theta: []\n",
      "    issaccadeorfixation: []\n",
      "              fixations: [1x1 struct]\n",
      "             isfixation: []\n",
      "               saccades: [1x1 struct]\n",
      "              issaccade: []\n",
      "                   rois: [1x1 struct]\n",
      "              condition: []\n",
      "\n"
     ]
    }
   ],
   "source": [
    "%Making a new object. \n",
    "new_trial = myparticipant.gettrial(1)"
   ]
  },
  {
   "cell_type": "code",
   "execution_count": 8,
   "metadata": {},
   "outputs": [
    {
     "name": "stdout",
     "output_type": "stream",
     "text": [
      "\n",
      "ans = \n",
      "\n",
      "  struct with no fields.\n",
      "\n"
     ]
    }
   ],
   "source": [
    "new_trial.saccades"
   ]
  },
  {
   "cell_type": "code",
   "execution_count": 9,
   "metadata": {},
   "outputs": [
    {
     "name": "stdout",
     "output_type": "stream",
     "text": [
      "\n",
      "ans = \n",
      "\n",
      "  struct with fields:\n",
      "\n",
      "    rawindex: [3x1 double]\n",
      "      number: 3\n",
      "       start: [736000 1869000 2597000]\n",
      "         end: [744000 1876000 2615000]\n",
      "\n"
     ]
    }
   ],
   "source": [
    "new_trial.number_of_saccade()\n",
    "new_trial.saccades"
   ]
  },
  {
   "cell_type": "code",
   "execution_count": 10,
   "metadata": {},
   "outputs": [
    {
     "name": "stdout",
     "output_type": "stream",
     "text": [
      "\n",
      "new_trial = \n",
      "\n",
      "  trial with properties:\n",
      "\n",
      "                 parent: [1x1 participant]\n",
      "                   data: []\n",
      "               trial_no: 1\n",
      "        trial_fieldname: 'trial_1'\n",
      "            num_samples: 3992\n",
      "                  index: [1x3992 uint32]\n",
      "            sample_time: [1x3992 uint32]\n",
      "             trial_time: [1x3992 uint32]\n",
      "                      x: [1x3992 double]\n",
      "                      y: [1x3992 double]\n",
      "                    rho: [1x3992 double]\n",
      "                  theta: [1x3992 double]\n",
      "    issaccadeorfixation: []\n",
      "              fixations: [1x1 struct]\n",
      "             isfixation: [1x3992 double]\n",
      "               saccades: [1x1 struct]\n",
      "              issaccade: [1x3992 double]\n",
      "                   rois: [1x1 struct]\n",
      "              condition: []\n",
      "\n"
     ]
    }
   ],
   "source": [
    "new_trial.number_of_fixation()\n",
    "new_trial.number_of_saccade()\n",
    "new_trial.duration_of_fixation()\n",
    "new_trial.duration_of_saccade()\n",
    "new_trial.location_of_fixation()\n",
    "new_trial.location_of_saccade()\n",
    "new_trial.amplitude_of_saccade()\n",
    "new_trial.deviation_of_duration_of_fixation\n",
    "new_trial.deviation_of_duration_of_saccade\n",
    "new_trial.get_polar\n",
    "new_trial.get_issaccade\n",
    "new_trial.get_isfixation\n",
    "\n",
    "new_trial"
   ]
  },
  {
   "cell_type": "code",
   "execution_count": 11,
   "metadata": {},
   "outputs": [
    {
     "name": "stdout",
     "output_type": "stream",
     "text": [
      "\n",
      "ans = \n",
      "\n",
      "  struct with fields:\n",
      "\n",
      "              rawindex: [3x1 double]\n",
      "                number: 3\n",
      "                 start: [736000 1869000 2597000]\n",
      "                   end: [744000 1876000 2615000]\n",
      "              duration: [1123000 719000 1375000]\n",
      "           start_gazex: [3x1 double]\n",
      "           start_gazey: [3x1 double]\n",
      "             end_gazex: [3x1 double]\n",
      "             end_gazey: [3x1 double]\n",
      "             amplitude: [3x1 double]\n",
      "    duration_variation: [0.1531 -1.0677 0.9146]\n",
      "\n"
     ]
    }
   ],
   "source": [
    "new_trial.saccades"
   ]
  },
  {
   "cell_type": "code",
   "execution_count": 12,
   "metadata": {},
   "outputs": [
    {
     "data": {
      "image/png": "[encoded data removed]",
      "text/plain": [
       "<IPython.core.display.Image object>"
      ]
     },
     "metadata": {},
     "output_type": "display_data"
    }
   ],
   "source": [
    "new_trial.animate"
   ]
  },
  {
   "cell_type": "markdown",
   "metadata": {},
   "source": [
    "### 2. Creating Classes \n"
   ]
  },
  {
   "cell_type": "markdown",
   "metadata": {},
   "source": [
    "#### excerpt from matlab's website\n",
    "\n",
    "MATLAB classes use the following words to describe different parts of a class definition and related concepts.\n",
    "\n",
    "Class definition — Description of what is common to every instance of a class.\n",
    "\n",
    "##### Properties — Data storage for class instances\n",
    "\n",
    "##### Methods — Special functions that implement operations that are usually performed only on instances of the class"
   ]
  },
  {
   "cell_type": "markdown",
   "metadata": {},
   "source": [
    "##### Events — Messages defined by classes and broadcast by class instances when some specific action occurs\n",
    "\n",
    "##### Attributes — Values that modify the behavior of properties, methods, events, and classes\n",
    "\n",
    "##### Listeners — Objects that respond to a specific event by executing a callback function when the event notice is broadcast\n",
    "\n",
    "##### Objects — Instances of classes, which contain actual data values stored in the objects' properties"
   ]
  },
  {
   "cell_type": "code",
   "execution_count": 19,
   "metadata": {},
   "outputs": [
    {
     "data": {
      "image/png": "[encoded data removed]",
      "text/plain": [
       "<IPython.core.display.Image object>"
      ]
     },
     "metadata": {},
     "output_type": "display_data"
    }
   ],
   "source": [
    "imshow('1.object_oriented/assets/classes_matlab.png')"
   ]
  },
  {
   "cell_type": "markdown",
   "metadata": {},
   "source": [
    "##### Subclasses — Classes that are derived from other classes and that inherit the methods, properties, and events from those classes (subclasses facilitate the reuse of code defined in the superclass from which they are derived).\n",
    "\n",
    "##### Superclasses — Classes that are used as a basis for the creation of more specifically defined classes (that is, subclasses).\n",
    "\n",
    "##### Packages — Folders that define a scope for class and function naming\n",
    "\n",
    "\n"
   ]
  },
  {
   "cell_type": "code",
   "execution_count": null,
   "metadata": {},
   "outputs": [
    {
     "name": "stdout",
     "output_type": "stream",
     "text": [
      "\n",
      "myparticipant = \n",
      "\n",
      "  participant with properties:\n",
      "\n",
      "             id: []\n",
      "        address: []\n",
      "         trials: {1x70 cell}\n",
      "           subs: {[31]}\n",
      "           data: {[1x70 struct]}\n",
      "            raw: []\n",
      "    subject_var: 'ID'\n",
      "         screen: [1x1 struct]\n",
      "           rois: [1x1 struct]\n",
      "            log: [1x1 struct]\n",
      "\n"
     ]
    }
   ],
   "source": [
    "myparticipant"
   ]
  },
  {
   "cell_type": "markdown",
   "metadata": {},
   "source": [
    "### 3. Handles "
   ]
  },
  {
   "cell_type": "code",
   "execution_count": 24,
   "metadata": {},
   "outputs": [
    {
     "name": "stdout",
     "output_type": "stream",
     "text": [
      "\n",
      "x =\n",
      "\n",
      "    12\n",
      "\n"
     ]
    }
   ],
   "source": [
    "% Example directory from matlab's website \n",
    "\n",
    "%function myFunc(var)\n",
    "%   var = var + 1;\n",
    "%end\n",
    "\n",
    "myFunc = @(x) x+1;\n",
    "\n",
    "x = 12;\n",
    "myFunc(x);\n",
    "x"
   ]
  },
  {
   "cell_type": "markdown",
   "metadata": {},
   "source": [
    "### 3.  Resources\n",
    "\n",
    "#### External relevant links \n",
    "\n",
    "\n",
    " * [Referenced mit lecture slides](https://ocw.mit.edu/courses/electrical-engineering-and-computer-science/6-0001-introduction-to-computer-science-and-programming-in-python-fall-2016/lecture-slides-code/MIT6_0001F16_Lec8.pdf)\n",
    " * [Reference mit lecture video ](https://ocw.mit.edu/courses/electrical-engineering-and-computer-science/6-0001-introduction-to-computer-science-and-programming-in-python-fall-2016/lecture-videos/lecture-8-object-oriented-programming/ )\n",
    " * [Matlab documentation](https://www.mathworks.com/help/matlab/object-oriented-design-with-matlab.html)\n",
    " \n",
    "#### My personal links \n",
    " \n",
    " * [Javascript javascript code](https://codepen.io/ATajadod94/pen/pKvOLE?editors=0010)\n",
    " * [Referenced matlab code](https://github.com/ATajadod94/ALITrack/tree/master/src)\n",
    " * [this talk's directory on github](https://github.com/ATajadod94/Python_tutorial/tree/master/Code/Object_oriented)\n"
   ]
  },
  {
   "cell_type": "markdown",
   "metadata": {},
   "source": [
    "written by Alireza Tajdod"
   ]
  }
 ],
 "metadata": {
  "kernelspec": {
   "display_name": "Matlab",
   "language": "matlab",
   "name": "matlab"
  },
  "language_info": {
   "codemirror_mode": "octave",
   "file_extension": ".m",
   "help_links": [
    {
     "text": "MetaKernel Magics",
     "url": "https://github.com/calysto/metakernel/blob/master/metakernel/magics/README.md"
    }
   ],
   "mimetype": "text/x-octave",
   "name": "matlab",
   "version": "0.15.0"
  }
 },
 "nbformat": 4,
 "nbformat_minor": 2
}
