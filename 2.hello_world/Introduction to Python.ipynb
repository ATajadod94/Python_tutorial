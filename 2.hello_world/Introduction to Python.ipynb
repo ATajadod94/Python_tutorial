{
 "cells": [
  {
   "cell_type": "code",
   "execution_count": 39,
   "metadata": {},
   "outputs": [
    {
     "name": "stdout",
     "output_type": "stream",
     "text": [
      "today:  <class 'type'> \n",
      "tutorial_number <class 'int'> \n",
      "exact_time:  <class 'float'> \n",
      "isfriday <class 'bool'> \n",
      "tutorial_time <class 'NoneType'> \n",
      "myname:  <class 'str'>\n"
     ]
    }
   ],
   "source": [
    "class intro_to_python():\n",
    "    pass\n",
    "\n",
    "Today = intro_to_python\n",
    "Today.tutorial_number = 2\n",
    "Today.exact_time = 3.48\n",
    "Today.isfriday = True\n",
    "Today.tutorial_time = None\n",
    "\n",
    "Today.Author = \"Alireza Tajadod\"\n",
    "\n",
    "print('today: ' , type(Today), '\\ntutorial_number', type(Today.tutorial_number),\n",
    "       '\\nexact_time: ' , type(Today.exact_time), '\\nisfriday', type(Today.isfriday),\n",
    "       '\\ntutorial_time' , type(Today.tutorial_time), '\\nmyname: ', type(Today.Author))\n",
    "\n",
    "\n",
    "## Question \n",
    "# type(Today.tutorial_number  * Today.exact_time)\n",
    "\n"
   ]
  },
  {
   "cell_type": "markdown",
   "metadata": {},
   "source": [
    "#Data science essentials \n",
    "\n",
    "1) \n",
    "    * ) Github / Jupyter / your working environment \n",
    "\n",
    "    * ) Introduction to Python : Data types, Variables, IDE, (my favourite editors : Pycharm/Atom)\n",
    "\n",
    "    * ) Simple numerical programs : for loops, if statements, (floats), ((bisection)) \n",
    "\n",
    "2) \n",
    "    * ) Functions, keywords, scoping , ((recursion))\n",
    "\n",
    "    * ) Numpy/Scipy \n",
    "\n",
    "3) \n",
    "    * ) Tuples, lists, (list comphrension), (( functions as objects ))\n",
    "\n",
    "    * ) Pandas\n",
    "   \n",
    "4)  \n",
    "    * ) Debugging, Testing\n",
    "\n",
    "    * ) Matplotlib \n",
    "    \n",
    "5) \n",
    "    * ) Classes, objects, (multiple level inheritance), (generators) \n",
    "    \n",
    "    * ) Psychopy \n",
    " \n",
    "    \n",
    "6) \n",
    "    * ) Paths, (Data bases)\n",
    "    \n",
    "    * )  Pathlib , SQL \n",
    "    \n",
    "    \n",
    "    \n",
    "## Other things to look at\n",
    "\n",
    "    * ) SymPy, allensdk , Generators ,  Cookiecutter, Bokeh, Tensorflow, Ipython , complexity, algorithms, ..\n"
   ]
  },
  {
   "cell_type": "code",
   "execution_count": null,
   "metadata": {},
   "outputs": [],
   "source": [
    "## Question \n",
    "pi = 3\n",
    "radius = 11\n",
    "area  = pi * (radius**2) \n",
    "radius = 14\n",
    "# print(area)?\n",
    "pi = 3.14\n",
    "area  = pi * (radius**2) \n",
    "# type(print(area))?\n",
    "\n"
   ]
  },
  {
   "cell_type": "code",
   "execution_count": 44,
   "metadata": {},
   "outputs": [
    {
     "name": "stdout",
     "output_type": "stream",
     "text": [
      "True\n",
      "False\n"
     ]
    }
   ],
   "source": [
    "## Python Keywords : \n",
    "\n",
    "\n",
    "print(True and True)\n",
    "print(False or False)\n",
    "\n",
    "# Question \n",
    "#print(not(True or False) and (False or False or True) and (not True))"
   ]
  },
  {
   "cell_type": "code",
   "execution_count": null,
   "metadata": {},
   "outputs": [],
   "source": [
    "##matlab if statee"
   ]
  },
  {
   "cell_type": "code",
   "execution_count": 50,
   "metadata": {},
   "outputs": [
    {
     "name": "stdout",
     "output_type": "stream",
     "text": [
      "hi\n",
      "True\n"
     ]
    }
   ],
   "source": [
    "## In python, Spacing Matters\n",
    "\n",
    "if True:\n",
    "    print('hi')\n",
    "    \n",
    "while False:\n",
    "    print('bye')\n",
    "  \n",
    "i_will_not_change = True\n",
    "while i_will_not_change:\n",
    "    print(i_will_not_change)\n",
    "    i_will_not_change = False\n",
    "    "
   ]
  },
  {
   "cell_type": "code",
   "execution_count": 1,
   "metadata": {},
   "outputs": [
    {
     "name": "stdout",
     "output_type": "stream",
     "text": [
      "Ali\n",
      "Zhongxu\n",
      "Vernoice\n",
      "Amir\n"
     ]
    }
   ],
   "source": [
    "people = ['Ali', 'Zhongxu', 'Vernoice', 'Amir']\n",
    "for person in people:\n",
    "    print(person)\n",
    "    "
   ]
  },
  {
   "cell_type": "code",
   "execution_count": 9,
   "metadata": {},
   "outputs": [
    {
     "name": "stdout",
     "output_type": "stream",
     "text": [
      "0\n",
      "1\n",
      "2\n",
      "3\n"
     ]
    }
   ],
   "source": [
    "for i in range(0,4):\n",
    "    print(i)\n",
    "\n",
    "\n",
    "## Question \n",
    "#for j in range(0,i):\n",
    "#    print(j)\n",
    "#    i = 5\n",
    "\n",
    "#range(0,1)"
   ]
  },
  {
   "cell_type": "code",
   "execution_count": 14,
   "metadata": {},
   "outputs": [
    {
     "name": "stdout",
     "output_type": "stream",
     "text": [
      "Ali Ali\n",
      "Zhongxu Zhongxu\n",
      "Vernoice Vernoice\n",
      "Amir Amir\n",
      "Ali Ali\n",
      "Zhongxu Zhongxu\n",
      "Vernoice Vernoice\n",
      "Amir Amir\n",
      "Ali Ali\n",
      "Zhongxu Zhongxu\n",
      "Vernoice Vernoice\n",
      "Amir Amir\n",
      "Ali Ali\n",
      "Zhongxu Zhongxu\n",
      "Vernoice Vernoice\n",
      "Amir Amir\n"
     ]
    }
   ],
   "source": [
    "for person in people:\n",
    "    for another_person in people:\n",
    "        print(person,peranother_personson)\n",
    "        \n"
   ]
  },
  {
   "cell_type": "code",
   "execution_count": 16,
   "metadata": {},
   "outputs": [
    {
     "name": "stdout",
     "output_type": "stream",
     "text": [
      "Ali\n"
     ]
    }
   ],
   "source": [
    "for person in people: \n",
    "    print(person)\n",
    "    if person is 'Ali':\n",
    "        break"
   ]
  },
  {
   "cell_type": "code",
   "execution_count": 21,
   "metadata": {},
   "outputs": [
    {
     "name": "stdout",
     "output_type": "stream",
     "text": [
      "<class 'float'>\n",
      "0.9999999999999999 is not 1.0\n"
     ]
    }
   ],
   "source": [
    "x = 0.0\n",
    "print(type(x))\n",
    "for i in range(10):\n",
    "    x = x + 0.1\n",
    "\n",
    "if x == 1.0:\n",
    "    print(x, '= 1.0')\n",
    "\n",
    "else: \n",
    "    print(x, 'is not 1.0')\n",
    "    "
   ]
  },
  {
   "cell_type": "code",
   "execution_count": null,
   "metadata": {},
   "outputs": [],
   "source": []
  }
 ],
 "metadata": {
  "kernelspec": {
   "display_name": "Python 3",
   "language": "python",
   "name": "python3"
  },
  "language_info": {
   "codemirror_mode": {
    "name": "ipython",
    "version": 3
   },
   "file_extension": ".py",
   "mimetype": "text/x-python",
   "name": "python",
   "nbconvert_exporter": "python",
   "pygments_lexer": "ipython3",
   "version": "3.6.4"
  }
 },
 "nbformat": 4,
 "nbformat_minor": 2
}
