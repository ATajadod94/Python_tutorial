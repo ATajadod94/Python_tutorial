{
 "cells": [
  {
   "cell_type": "code",
   "execution_count": 39,
   "metadata": {},
   "outputs": [
    {
     "name": "stdout",
     "output_type": "stream",
     "text": [
      "today:  <class 'type'> \n",
      "tutorial_number <class 'int'> \n",
      "exact_time:  <class 'float'> \n",
      "isfriday <class 'bool'> \n",
      "tutorial_time <class 'NoneType'> \n",
      "myname:  <class 'str'>\n"
     ]
    }
   ],
   "source": [
    "class intro_to_python():\n",
    "    pass\n",
    "\n",
    "Today = intro_to_python\n",
    "Today.tutorial_number = 2\n",
    "Today.exact_time = 3.48\n",
    "Today.isfriday = True\n",
    "Today.tutorial_time = None\n",
    "\n",
    "Today.Author = \"Alireza Tajadod\"\n",
    "\n",
    "print('today: ' , type(Today), '\\ntutorial_number', type(Today.tutorial_number),\n",
    "       '\\nexact_time: ' , type(Today.exact_time), '\\nisfriday', type(Today.isfriday),\n",
    "       '\\ntutorial_time' , type(Today.tutorial_time), '\\nmyname: ', type(Today.Author))\n",
    "\n",
    "\n",
    "## Question \n",
    "# type(Today.tutorial_number  * Today.exact_time)\n",
    "\n"
   ]
  },
  {
   "cell_type": "markdown",
   "metadata": {},
   "source": [
    "#Data science essentials \n",
    "\n",
    "1) \n",
    "    * ) Github / Jupyter / your working environment \n",
    "\n",
    "    * ) Introduction to Python : Data types, Variables, IDE, (my favourite editors : Pycharm/Atom)\n",
    "\n",
    "    * ) Simple numerical programs : for loops, if statements, (floats), ((bisection)) \n",
    "\n",
    "2) \n",
    "    * ) Functions, keywords, scoping , ((recursion))\n",
    "\n",
    "    * ) Numpy/Scipy \n",
    "\n",
    "3) \n",
    "    * ) Tuples, lists, (list comphrension), (( functions as objects! ))\n",
    "\n",
    "    * ) Pandas\n",
    "   \n",
    "4)  \n",
    "    * ) Debugging, Testing\n",
    "\n",
    "    * ) Matplotlib \n",
    "    \n",
    "5) \n",
    "    * ) Classes, objects, (multiple level inheritance), (generators) \n",
    "    \n",
    "    * ) Psychopy \n",
    " \n",
    "    \n",
    "6) \n",
    "    * ) Data bases\n",
    "    \n",
    "    * ) SQL\n",
    "    \n",
    "    \n",
    "    \n",
    "## Other things to look at\n",
    "\n",
    "    * ) SymPy, allensdk , Generators ,  Cookiecutter, Bokeh, Tensorflow, Ipython , complexity, algorithms, ..\n"
   ]
  },
  {
   "cell_type": "code",
   "execution_count": null,
   "metadata": {},
   "outputs": [],
   "source": [
    "## Question \n",
    "pi = 3\n",
    "radius = 11\n",
    "area  = pi * (radius**2) \n",
    "radius = 14\n",
    "# print(area)?\n",
    "pi = 3.14\n",
    "area  = pi * (radius**2) \n",
    "# type(print(area))?\n",
    "\n"
   ]
  },
  {
   "cell_type": "code",
   "execution_count": 44,
   "metadata": {},
   "outputs": [
    {
     "name": "stdout",
     "output_type": "stream",
     "text": [
      "True\n",
      "False\n"
     ]
    }
   ],
   "source": [
    "## Python Keywords : \n",
    "\n",
    "\n",
    "print(True and True)\n",
    "print(False or False)\n",
    "\n",
    "# Question \n",
    "#print(not(True or False) and (False or False or True) and (not True))"
   ]
  },
  {
   "cell_type": "code",
   "execution_count": 50,
   "metadata": {},
   "outputs": [
    {
     "name": "stdout",
     "output_type": "stream",
     "text": [
      "hi\n",
      "True\n"
     ]
    }
   ],
   "source": [
    "if True:\n",
    "    print('hi')\n",
    "    \n",
    "while False:\n",
    "    print('bye')\n",
    "  \n",
    "i_will_not_change = True\n",
    "while i_will_not_change:\n",
    "    print(i_will_not_change)\n",
    "    i_will_not_change = False\n",
    "    "
   ]
  },
  {
   "cell_type": "code",
   "execution_count": null,
   "metadata": {},
   "outputs": [],
   "source": []
  }
 ],
 "metadata": {
  "kernelspec": {
   "display_name": "Python 3",
   "language": "python",
   "name": "python3"
  },
  "language_info": {
   "codemirror_mode": {
    "name": "ipython",
    "version": 3
   },
   "file_extension": ".py",
   "mimetype": "text/x-python",
   "name": "python",
   "nbconvert_exporter": "python",
   "pygments_lexer": "ipython3",
   "version": "3.6.4"
  }
 },
 "nbformat": 4,
 "nbformat_minor": 2
}
