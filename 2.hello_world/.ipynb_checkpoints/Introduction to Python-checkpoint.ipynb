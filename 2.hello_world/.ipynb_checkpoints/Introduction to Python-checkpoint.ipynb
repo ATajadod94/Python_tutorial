{
 "cells": [
  {
   "cell_type": "code",
   "execution_count": 1,
   "metadata": {
    "scrolled": true
   },
   "outputs": [
    {
     "name": "stdout",
     "output_type": "stream",
     "text": [
      "today:  <class 'type'> \n",
      "tutorial_number <class 'int'> \n",
      "exact_time:  <class 'float'> \n",
      "isfriday <class 'bool'> \n",
      "tutorial_time <class 'NoneType'> \n",
      "myname:  <class 'str'>\n"
     ]
    },
    {
     "data": {
      "text/plain": [
       "float"
      ]
     },
     "execution_count": 1,
     "metadata": {},
     "output_type": "execute_result"
    }
   ],
   "source": [
    "class intro_to_python():\n",
    "    pass\n",
    "\n",
    "Today = intro_to_python\n",
    "Today.tutorial_number = 2\n",
    "Today.exact_time = 3.48\n",
    "Today.isfriday = True\n",
    "Today.tutorial_time = None\n",
    "\n",
    "Today.Author = \"Alireza Tajadod\"\n",
    "\n",
    "print('today: ' , type(Today), '\\ntutorial_number', type(Today.tutorial_number),\n",
    "       '\\nexact_time: ' , type(Today.exact_time), '\\nisfriday', type(Today.isfriday),\n",
    "       '\\ntutorial_time' , type(Today.tutorial_time), '\\nmyname: ', type(Today.Author))\n",
    "\n",
    "\n",
    "#Question \n",
    "type(Today.tutorial_number  * Today.exact_time)\n"
   ]
  },
  {
   "cell_type": "markdown",
   "metadata": {},
   "source": [
    "# Data science essentials \n",
    "\n",
    "1) \n",
    "    * ) Github / Jupyter / your working environment \n",
    "\n",
    "    * ) Introduction to Python : Data types, Variables, IDE, (my favourite editors : Pycharm/Atom)\n",
    "\n",
    "    * ) Simple numerical programs : for loops, if statements, (floats), ((bisection)) \n",
    "\n",
    "2) \n",
    "    * ) Functions, keywords, scoping , ((recursion))\n",
    "\n",
    "    * ) Numpy/Scipy \n",
    "\n",
    "3) \n",
    "    * ) Tuples, lists, (list comphrension), (( functions as objects ))\n",
    "\n",
    "    * ) Pandas\n",
    "   \n",
    "4)  \n",
    "    * ) Debugging, Testing\n",
    "\n",
    "    * ) Matplotlib \n",
    "    \n",
    "5) \n",
    "    * ) Classes, objects, (multiple level inheritance), (generators) \n",
    "    \n",
    "    * ) Psychopy \n",
    " \n",
    "    \n",
    "6) \n",
    "    * ) Paths, (Data bases)\n",
    "    \n",
    "    * )  Pathlib , SQL \n",
    "    \n",
    "    \n",
    "    \n",
    "## Other things to look at\n",
    "\n",
    "    * ) SymPy, allensdk , Generators ,  Cookiecutter, Bokeh, Tensorflow, Ipython , complexity, algorithms, ..\n"
   ]
  },
  {
   "cell_type": "markdown",
   "metadata": {},
   "source": [
    "## Branching and iteration "
   ]
  },
  {
   "cell_type": "code",
   "execution_count": 6,
   "metadata": {},
   "outputs": [
    {
     "name": "stdout",
     "output_type": "stream",
     "text": [
      "363\n",
      "<class 'float'>\n"
     ]
    }
   ],
   "source": [
    "## Question \n",
    "pi = 3\n",
    "radius = 11\n",
    "area  = pi * (radius**2) \n",
    "radius = 14\n",
    "print(area)\n",
    "pi = 3.14\n",
    "area  = pi * (radius**2) \n",
    "print(type(area))"
   ]
  },
  {
   "cell_type": "code",
   "execution_count": 21,
   "metadata": {
    "scrolled": true
   },
   "outputs": [
    {
     "data": {
      "text/plain": [
       "True"
      ]
     },
     "execution_count": 21,
     "metadata": {},
     "output_type": "execute_result"
    }
   ],
   "source": [
    "## Python Keywords : \n",
    "\n",
    "\n",
    "#print(True and True)\n",
    "#print(False or False)\n",
    "\n",
    "# Question \n",
    "#print(not(True or False) and (False or False or True) and (not True))\n",
    "\n",
    "\n",
    "list = []  # == False\n",
    "\n",
    "not (  list  and list[2] == 4 )\n",
    "    "
   ]
  },
  {
   "cell_type": "code",
   "execution_count": 32,
   "metadata": {
    "scrolled": true
   },
   "outputs": [
    {
     "ename": "IndentationError",
     "evalue": "expected an indented block (<ipython-input-32-ee6ae293a688>, line 3)",
     "output_type": "error",
     "traceback": [
      "\u001b[0;36m  File \u001b[0;32m\"<ipython-input-32-ee6ae293a688>\"\u001b[0;36m, line \u001b[0;32m3\u001b[0m\n\u001b[0;31m    print('hi')\u001b[0m\n\u001b[0m        ^\u001b[0m\n\u001b[0;31mIndentationError\u001b[0m\u001b[0;31m:\u001b[0m expected an indented block\n"
     ]
    }
   ],
   "source": [
    "## In python, Spacing Matters\n",
    "if True:\n",
    "print('hi')\n",
    "\n"
   ]
  },
  {
   "cell_type": "code",
   "execution_count": 27,
   "metadata": {},
   "outputs": [
    {
     "name": "stdout",
     "output_type": "stream",
     "text": [
      "hi\n",
      "bye\n"
     ]
    }
   ],
   "source": [
    "if True:\n",
    "    print('hi')\n",
    "    print('bye')"
   ]
  },
  {
   "cell_type": "code",
   "execution_count": 31,
   "metadata": {},
   "outputs": [
    {
     "name": "stdout",
     "output_type": "stream",
     "text": [
      "even\n"
     ]
    }
   ],
   "source": [
    "x = 0\n",
    "if x%2 == 0:\n",
    "    print('even')\n",
    "else:\n",
    "    print('odd')  \n"
   ]
  },
  {
   "cell_type": "code",
   "execution_count": 39,
   "metadata": {},
   "outputs": [
    {
     "name": "stdout",
     "output_type": "stream",
     "text": [
      "huge\n",
      "999\n"
     ]
    }
   ],
   "source": [
    "x = 1001\n",
    "if x > 1000:\n",
    "    print('huge')\n",
    "    x = 999\n",
    "elif x > 10: \n",
    "    print('medium')\n",
    "    x = 9\n",
    "else:\n",
    "    print('small')\n",
    "\n",
    "\n",
    "print(x)"
   ]
  },
  {
   "cell_type": "code",
   "execution_count": 40,
   "metadata": {},
   "outputs": [
    {
     "name": "stdout",
     "output_type": "stream",
     "text": [
      "your age23\n"
     ]
    }
   ],
   "source": [
    "B = input('your age')"
   ]
  },
  {
   "cell_type": "code",
   "execution_count": 43,
   "metadata": {},
   "outputs": [
    {
     "name": "stdout",
     "output_type": "stream",
     "text": [
      "<class 'str'>\n",
      "24\n",
      "<class 'list'>\n",
      "can not do this\n"
     ]
    }
   ],
   "source": [
    "print(type(B))\n",
    "if type(B) is (float or int):\n",
    "    print(B + 1)\n",
    "elif type(B) is str:\n",
    "    print(int(B) + 1)\n",
    "else: \n",
    "    assert 'i don\\'t know how to handle: ', B\n",
    "\n",
    "\n",
    "B = [1,2,3] \n",
    "print(type(B))\n",
    "\n",
    "if type(B) is (float or int):\n",
    "    print(B + 1)\n",
    "elif type(B) is str:\n",
    "    print(int(B) + 1)\n",
    "else: \n",
    "    print('can not do this')\n",
    "    assert 'i don\\'t know how to handle: ', B\n"
   ]
  },
  {
   "cell_type": "code",
   "execution_count": 44,
   "metadata": {},
   "outputs": [
    {
     "name": "stdout",
     "output_type": "stream",
     "text": [
      "True\n"
     ]
    }
   ],
   "source": [
    "#while False:\n",
    "#    print('bye')\n",
    "\n",
    "i_will_not_change = True\n",
    "while i_will_not_change:\n",
    "    print(i_will_not_change)\n",
    "    i_will_not_change = False\n"
   ]
  },
  {
   "cell_type": "code",
   "execution_count": 45,
   "metadata": {},
   "outputs": [
    {
     "name": "stdout",
     "output_type": "stream",
     "text": [
      "i was called: False\n"
     ]
    }
   ],
   "source": [
    "i_will_not_change = True  \n",
    "\n",
    "while i_will_not_change:\n",
    "    i_will_not_change = False\n",
    "    print('i was called:', i_will_not_change)"
   ]
  },
  {
   "cell_type": "code",
   "execution_count": 57,
   "metadata": {},
   "outputs": [
    {
     "name": "stdout",
     "output_type": "stream",
     "text": [
      "Ali\n",
      "Zhongxu\n",
      "Veronica\n",
      "Amir\n"
     ]
    }
   ],
   "source": [
    "people = ['Ali', 'Zhongxu', 'Veronica', 'Amir']\n",
    "for person in people:\n",
    "    print(person)"
   ]
  },
  {
   "cell_type": "code",
   "execution_count": 65,
   "metadata": {},
   "outputs": [
    {
     "name": "stdout",
     "output_type": "stream",
     "text": [
      "0\n",
      "1\n",
      "2\n",
      "3\n"
     ]
    }
   ],
   "source": [
    "#for i in range(4):\n",
    "#    print(i)\n",
    "#print(i)\n",
    "## Question \n",
    "#for j in range(0,i):\n",
    "#    print(j)\n",
    "#    i = 5\n",
    "\n",
    "y=2\n",
    "x = 0\n",
    "while (x<y):\n",
    "    print(x)\n",
    "    y = 4\n",
    "    x += 1 # x = x+1, x -= 1\n",
    "\n",
    "#range(0,1)"
   ]
  },
  {
   "cell_type": "code",
   "execution_count": 68,
   "metadata": {
    "scrolled": true
   },
   "outputs": [
    {
     "name": "stdout",
     "output_type": "stream",
     "text": [
      "['Ali', 'Zhongxu', 'Veronica', 'Amir']\n",
      "Ali Ali\n",
      "Ali Zhongxu\n",
      "Ali Veronica\n",
      "Ali Amir\n",
      "Zhongxu Ali\n",
      "Zhongxu Zhongxu\n",
      "Zhongxu Veronica\n",
      "Zhongxu Amir\n",
      "Veronica Ali\n",
      "Veronica Zhongxu\n",
      "Veronica Veronica\n",
      "Veronica Amir\n",
      "Amir Ali\n",
      "Amir Zhongxu\n",
      "Amir Veronica\n",
      "Amir Amir\n"
     ]
    }
   ],
   "source": [
    "print(people)\n",
    "for person in people:\n",
    "    for another_person in people:\n",
    "        print(person,another_person)"
   ]
  },
  {
   "cell_type": "code",
   "execution_count": 73,
   "metadata": {},
   "outputs": [
    {
     "name": "stdout",
     "output_type": "stream",
     "text": [
      "1\n",
      "2\n",
      "3\n",
      "4\n",
      "5\n",
      "6\n",
      "7\n",
      "8\n",
      "9\n"
     ]
    }
   ],
   "source": [
    "list_of_lists = [ [1, 2, 3], [4, 5, 6], [7, 8, 9]]\n",
    "for list in list_of_lists:\n",
    "    for x in list:\n",
    "        print (x)"
   ]
  },
  {
   "cell_type": "code",
   "execution_count": 74,
   "metadata": {},
   "outputs": [
    {
     "name": "stdout",
     "output_type": "stream",
     "text": [
      "Ali\n"
     ]
    }
   ],
   "source": [
    "for person in people: \n",
    "    print(person)\n",
    "    if person is 'Ali':\n",
    "        break"
   ]
  },
  {
   "cell_type": "code",
   "execution_count": 83,
   "metadata": {},
   "outputs": [
    {
     "name": "stdout",
     "output_type": "stream",
     "text": [
      "<class 'float'>\n",
      "0.9999999999999999 is not 1.0\n"
     ]
    }
   ],
   "source": [
    "x = 0.0\n",
    "print(type(x))\n",
    "for _ in range(10):\n",
    "    x = x + 0.1\n",
    "\n",
    "if (x) == 1.0:\n",
    "    print(x, '= 1.0')\n",
    "\n",
    "else: \n",
    "    print(x, 'is not 1.0')\n"
   ]
  },
  {
   "cell_type": "code",
   "execution_count": 33,
   "metadata": {},
   "outputs": [
    {
     "name": "stdout",
     "output_type": "stream",
     "text": [
      "H\n",
      "e\n",
      "l\n",
      "l\n",
      "o\n",
      " \n",
      "W\n",
      "o\n",
      "r\n",
      "l\n",
      "d\n"
     ]
    }
   ],
   "source": [
    "string = \"Hello World\"\n",
    "for x in string:\n",
    "    print (x)"
   ]
  },
  {
   "cell_type": "code",
   "execution_count": 84,
   "metadata": {},
   "outputs": [
    {
     "name": "stdout",
     "output_type": "stream",
     "text": [
      "0 Ali\n",
      "1 Zhongxu\n",
      "2 Veronica\n",
      "3 Amir\n"
     ]
    }
   ],
   "source": [
    "for idx,person in enumerate(people):\n",
    "    print(idx,person)"
   ]
  },
  {
   "cell_type": "code",
   "execution_count": 95,
   "metadata": {},
   "outputs": [
    {
     "name": "stdout",
     "output_type": "stream",
     "text": [
      "[0, 1, 2]\n"
     ]
    }
   ],
   "source": [
    "list_of_lists = [ [1, 2, 3], [4, 5, 6], [7, 8, 9] ]\n",
    "#b = [x for x in list_of_lists]\n",
    "#print(b)\n",
    "#b = [x[0] for x in list_of_lists]\n",
    "#print(b)\n",
    "b = [idx for idx,x in enumerate(list_of_lists)]\n",
    "print(b)"
   ]
  },
  {
   "cell_type": "code",
   "execution_count": 106,
   "metadata": {},
   "outputs": [
    {
     "name": "stdout",
     "output_type": "stream",
     "text": [
      "[[1, 2, 3], [4, 5, 6], [7, 8, 9]]\n",
      "<generator object <genexpr> at 0x1125b9eb8>\n",
      "[1, 2, 3]\n",
      "[4, 5, 6]\n",
      "[7, 8, 9]\n"
     ]
    }
   ],
   "source": [
    "print(list_of_lists)\n",
    "b = (x for x in list_of_lists)\n",
    "print(b)\n",
    "print(next(b))\n",
    "list_of_lists = [[1, 2, 3], [4, 5, 6], [10,11,12]]\n",
    "print(next(b))\n",
    "print(next(b))\n",
    "#print(next(b))"
   ]
  },
  {
   "cell_type": "code",
   "execution_count": 116,
   "metadata": {},
   "outputs": [
    {
     "name": "stdout",
     "output_type": "stream",
     "text": [
      "[0, 2, 4, 6, 8, 10, 12, 14, 16, 18, 20, 22, 24, 26, 28, 30, 32, 34, 36, 38, 40, 42, 44, 46, 48, 50, 52, 54, 56, 58, 60, 62, 64, 66, 68, 70, 72, 74, 76, 78, 80, 82, 84, 86, 88, 90, 92, 94, 96, 98]\n",
      "[1, 2, 1, 2]\n",
      "[2, 4]\n",
      "AliAli\n",
      "['AA', 'll', 'ii']\n"
     ]
    }
   ],
   "source": [
    "doubles = [2 * n for n in range(50)]\n",
    "print(doubles)\n",
    "\n",
    "v = [1,2]\n",
    "print(2*v)\n",
    "\n",
    "double = [2*x for x in v]\n",
    "print(double)\n",
    "\n",
    "print(2*'Ali')\n",
    "print ([2*x for x in 'Ali'])"
   ]
  },
  {
   "cell_type": "markdown",
   "metadata": {},
   "source": [
    "# References \n",
    "\n",
    "[Python's website](https://docs.python.org/3/index.html)\n"
   ]
  }
 ],
 "metadata": {
  "kernelspec": {
   "display_name": "Python 3",
   "language": "python",
   "name": "python3"
  },
  "language_info": {
   "codemirror_mode": {
    "name": "ipython",
    "version": 3
   },
   "file_extension": ".py",
   "mimetype": "text/x-python",
   "name": "python",
   "nbconvert_exporter": "python",
   "pygments_lexer": "ipython3",
   "version": "3.6.4"
  }
 },
 "nbformat": 4,
 "nbformat_minor": 2
}
