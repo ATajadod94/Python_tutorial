{
 "cells": [
  {
   "cell_type": "markdown",
   "metadata": {},
   "source": [
    "## Wrapping up loops \n",
    "\n",
    "* Decrementing function \n",
    "    * maps a set of program variables into an integer\n",
    "    * its inital value is non-negative\n",
    "    * When the value is <=0 , the loop terminates\n",
    "    * value is decreases everytime through a loop\n",
    "\n",
    "* Exhasustive numeration \n",
    "    - often the most practical way to solve a problem, easy to implement and easy to write \n",
    "\n",
    "\n",
    "* on floats\n",
    "\n",
    "    - write abs (x-y) < 0.0001  instead o f x == y "
   ]
  },
  {
   "cell_type": "code",
   "execution_count": 1,
   "metadata": {},
   "outputs": [
    {
     "name": "stdout",
     "output_type": "stream",
     "text": [
      "0\n",
      "1\n",
      "2\n",
      "3\n",
      "0\n",
      "1\n",
      "0\n",
      "1\n",
      "0\n",
      "1\n"
     ]
    }
   ],
   "source": [
    "# Question \n",
    "\n",
    "x = 4\n",
    "for j in range(x):\n",
    "    for i in range(x):\n",
    "        print(i)\n",
    "        x = 2\n",
    "        "
   ]
  },
  {
   "cell_type": "code",
   "execution_count": 2,
   "metadata": {},
   "outputs": [
    {
     "name": "stdout",
     "output_type": "stream",
     "text": [
      "None\n"
     ]
    }
   ],
   "source": [
    "## Functions \n",
    "\n",
    "\n",
    "def name_of_function (list_of_parameters):\n",
    "    pass \n",
    "\n",
    "def i_do_one_thing(a,b,c,d,e,f,g,h,i,j):\n",
    "    return 'pass butter'\n",
    "\n",
    "\n",
    "\n",
    "a = name_of_function('hi')\n",
    "print(a)\n",
    "\n"
   ]
  },
  {
   "cell_type": "code",
   "execution_count": 3,
   "metadata": {},
   "outputs": [
    {
     "name": "stdout",
     "output_type": "stream",
     "text": [
      "Tajadod, Ali\n",
      "Ali,  Tajadod\n",
      "Ali,  Tajadod\n"
     ]
    }
   ],
   "source": [
    "def printName(first,last, reverse = False):\n",
    "    if reverse: \n",
    "        print(last.strip().title() + ', ' + first.strip().title())\n",
    "    else:\n",
    "        print(first.strip().title() + ', ', last.strip().title())\n",
    "    \n",
    "printName('ali   ','tajadod',1)\n",
    "printName(reverse = False, first = 'Ali', last = '      tajadod')\n",
    "printName('Ali', 'Tajadod')"
   ]
  },
  {
   "cell_type": "code",
   "execution_count": 4,
   "metadata": {},
   "outputs": [
    {
     "data": {
      "text/plain": [
       "<function __main__.<lambda>(x)>"
      ]
     },
     "execution_count": 4,
     "metadata": {},
     "output_type": "execute_result"
    }
   ],
   "source": [
    "lambda x: x + 2  # side_note : notice how this actually prints something on being written!"
   ]
  },
  {
   "cell_type": "code",
   "execution_count": 5,
   "metadata": {},
   "outputs": [
    {
     "data": {
      "text/plain": [
       "4"
      ]
     },
     "execution_count": 5,
     "metadata": {},
     "output_type": "execute_result"
    }
   ],
   "source": [
    "g = lambda x: x+2\n",
    "g(2)"
   ]
  },
  {
   "cell_type": "code",
   "execution_count": 6,
   "metadata": {},
   "outputs": [
    {
     "name": "stdout",
     "output_type": "stream",
     "text": [
      "19\n",
      "None\n"
     ]
    }
   ],
   "source": [
    "def quadratic_functions(a,b,c):\n",
    "    return lambda x: a*x**2 + b*x + c\n",
    "\n",
    "f = quadratic_functions(2,3,5)\n",
    "print(f(2))\n",
    "\n",
    "print(a)"
   ]
  },
  {
   "cell_type": "code",
   "execution_count": 7,
   "metadata": {},
   "outputs": [
    {
     "name": "stdout",
     "output_type": "stream",
     "text": [
      "4305299936\n",
      "3 4\n",
      "4305299904 4305299936\n"
     ]
    }
   ],
   "source": [
    "def f(x): \n",
    "    '''new \"name space\" defined here (aka scope)'''\n",
    "    x  +=1 \n",
    "    y = 1000\n",
    "    print(id(x))\n",
    "    return x\n",
    "\n",
    "## note: id returns the memory location of an object \n",
    "\n",
    "x = 3 \n",
    "z = f(x)\n",
    "print(x,z)\n",
    "print(id(x),id(z))"
   ]
  },
  {
   "cell_type": "code",
   "execution_count": 8,
   "metadata": {},
   "outputs": [
    {
     "name": "stdout",
     "output_type": "stream",
     "text": [
      "Help on built-in function abs in module builtins:\n",
      "\n",
      "abs(x, /)\n",
      "    Return the absolute value of the argument.\n",
      "\n",
      "Help on function f in module __main__:\n",
      "\n",
      "f(x)\n",
      "    new \"name space\" defined here (aka scope)\n",
      "\n",
      "Help on built-in function abs in module builtins:\n",
      "\n",
      "abs(x, /)\n",
      "    Return the absolute value of the argument.\n",
      "\n"
     ]
    }
   ],
   "source": [
    "help(abs)\n",
    "help(f)\n",
    "\n",
    "\n",
    "f = abs\n",
    "help(f)"
   ]
  },
  {
   "cell_type": "code",
   "execution_count": 9,
   "metadata": {},
   "outputs": [
    {
     "name": "stdout",
     "output_type": "stream",
     "text": [
      "Help on function findroot in module __main__:\n",
      "\n",
      "findroot(x, power, epsilon)\n",
      "    Assumes x and epsilon int or float and power int \n",
      "    \n",
      "    returns float y such that Y**power is within epsilon \n",
      "    of x\n",
      "\n"
     ]
    }
   ],
   "source": [
    "# Assumptions and gurantees\n",
    "\n",
    "def findroot(x, power, epsilon ):\n",
    "    '''\n",
    "        Assumes x and epsilon int or float and power int \n",
    "        \n",
    "        returns float y such that Y**power is within epsilon \n",
    "        of x\n",
    "            '''\n",
    "    pass\n",
    "\n",
    "help(findroot)  \n"
   ]
  },
  {
   "cell_type": "code",
   "execution_count": 10,
   "metadata": {},
   "outputs": [
    {
     "name": "stdout",
     "output_type": "stream",
     "text": [
      "fib of 0 = 1\n",
      "fib of 1 = 1\n",
      "fib of 2 = 2\n",
      "fib of 3 = 3\n",
      "fib of 4 = 5\n",
      "fib of 5 = 8\n",
      "fib of 6 = 13\n",
      "\n",
      "hi\n"
     ]
    }
   ],
   "source": [
    "## quick glance at recursive functions \n",
    "\n",
    "def fib(n):\n",
    "    '''Assumes n int > 0\n",
    "        returns Fibonacci of n \n",
    "            '''\n",
    "    if n == 0 or n == 1:\n",
    "        return 1\n",
    "    else: \n",
    "        return fib(n-1) + fib(n-2)\n",
    "    \n",
    "def testFib(n):\n",
    "    for i in range(n+1):\n",
    "        print('fib of', i, '=', fib(i))\n",
    "    \n",
    "testFib(6)\n",
    "\n",
    "\n",
    "## still objects\n",
    "fib.weird = 'hi'\n",
    "print('\\n' + fib.weird)\n"
   ]
  },
  {
   "cell_type": "code",
   "execution_count": null,
   "metadata": {},
   "outputs": [],
   "source": [
    "## Files \n",
    "\n",
    "nameHandle = open('file', 'w')\n",
    "for i in range(2):\n",
    "    name = input('Name: ' )\n",
    "    nameHandle.write(name + '\\n')\n",
    "    \n",
    "nameHandle.close()"
   ]
  },
  {
   "cell_type": "markdown",
   "metadata": {},
   "source": [
    "More (alot more) on files [here](https://docs.python.org/3/tutorial/inputoutput.html)\n",
    "\n"
   ]
  },
  {
   "cell_type": "markdown",
   "metadata": {},
   "source": [
    "## Numpy\n"
   ]
  },
  {
   "cell_type": "code",
   "execution_count": null,
   "metadata": {},
   "outputs": [],
   "source": [
    "#pip install numpy \n",
    "\n",
    "import numpy as np \n",
    "\n",
    "print(dir(np))"
   ]
  },
  {
   "cell_type": "code",
   "execution_count": null,
   "metadata": {},
   "outputs": [],
   "source": []
  }
 ],
 "metadata": {
  "kernelspec": {
   "display_name": "Python 3",
   "language": "python",
   "name": "python3"
  },
  "language_info": {
   "codemirror_mode": {
    "name": "ipython",
    "version": 3
   },
   "file_extension": ".py",
   "mimetype": "text/x-python",
   "name": "python",
   "nbconvert_exporter": "python",
   "pygments_lexer": "ipython3",
   "version": "3.6.4"
  }
 },
 "nbformat": 4,
 "nbformat_minor": 2
}
