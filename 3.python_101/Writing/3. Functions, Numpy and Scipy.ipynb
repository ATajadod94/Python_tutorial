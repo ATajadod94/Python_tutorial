{
 "cells": [
  {
   "cell_type": "markdown",
   "metadata": {},
   "source": [
    "### Wrapping up loops \n",
    "\n",
    "* Decrementing function \n",
    "    * maps a set of program variables into an integer\n",
    "    * its inital value is non-negative\n",
    "    * When the value is <=0 , the loop terminates\n",
    "    * value is decreases everytime through a loop\n",
    "\n",
    "* Exhasustive numeration \n",
    "    - often the most practical way to solve a problem, easy to implement and easy to write \n",
    "\n",
    "\n",
    "* on floats\n",
    "\n",
    "    - write abs (x-y) < 0.0001  instead o f x == y "
   ]
  },
  {
   "cell_type": "code",
   "execution_count": 213,
   "metadata": {},
   "outputs": [
    {
     "name": "stdout",
     "output_type": "stream",
     "text": [
      "0\n",
      "1\n",
      "2\n",
      "3\n",
      "0\n",
      "1\n",
      "0\n",
      "1\n",
      "0\n",
      "1\n"
     ]
    }
   ],
   "source": [
    "# Question \n",
    "\n",
    "x = 4\n",
    "for j in range(x):\n",
    "    for i in range(x):\n",
    "        print(i)\n",
    "        x = 2\n",
    "        "
   ]
  },
  {
   "cell_type": "markdown",
   "metadata": {},
   "source": [
    "## Functions "
   ]
  },
  {
   "cell_type": "code",
   "execution_count": 214,
   "metadata": {},
   "outputs": [
    {
     "name": "stdout",
     "output_type": "stream",
     "text": [
      "None\n"
     ]
    }
   ],
   "source": [
    "def name_of_function (list_of_parameters):\n",
    "    pass \n",
    "\n",
    "def i_do_one_thing(a,b,c,d,e,f,g,h,i,j):\n",
    "    return 'pass butter'\n",
    "\n",
    "\n",
    "\n",
    "a = name_of_function('hi')\n",
    "print(a)\n",
    "\n"
   ]
  },
  {
   "cell_type": "code",
   "execution_count": 215,
   "metadata": {},
   "outputs": [
    {
     "name": "stdout",
     "output_type": "stream",
     "text": [
      "Tajadod, Ali\n",
      "Ali,  Tajadod\n",
      "Ali,  Tajadod\n"
     ]
    }
   ],
   "source": [
    "def printName(first,last, reverse = False):\n",
    "    if reverse: \n",
    "        print(last.strip().title() + ', ' + first.strip().title())\n",
    "    else:\n",
    "        print(first.strip().title() + ', ', last.strip().title())\n",
    "    \n",
    "printName('ali   ','tajadod',1)\n",
    "printName(reverse = False, first = 'Ali', last = '      tajadod')\n",
    "printName('Ali', 'Tajadod')"
   ]
  },
  {
   "cell_type": "code",
   "execution_count": 216,
   "metadata": {},
   "outputs": [
    {
     "data": {
      "text/plain": [
       "<function __main__.<lambda>(x)>"
      ]
     },
     "execution_count": 216,
     "metadata": {},
     "output_type": "execute_result"
    }
   ],
   "source": [
    "lambda x: x + 2  # side_note : notice how this actually prints something on being written!"
   ]
  },
  {
   "cell_type": "code",
   "execution_count": 217,
   "metadata": {},
   "outputs": [
    {
     "data": {
      "text/plain": [
       "4"
      ]
     },
     "execution_count": 217,
     "metadata": {},
     "output_type": "execute_result"
    }
   ],
   "source": [
    "g = lambda x: x+2\n",
    "g(2)"
   ]
  },
  {
   "cell_type": "code",
   "execution_count": 218,
   "metadata": {},
   "outputs": [
    {
     "name": "stdout",
     "output_type": "stream",
     "text": [
      "19\n",
      "None\n"
     ]
    }
   ],
   "source": [
    "def quadratic_functions(a,b,c):\n",
    "    return lambda x: a*x**2 + b*x + c\n",
    "\n",
    "f = quadratic_functions(2,3,5)\n",
    "print(f(2))\n",
    "\n",
    "print(a)"
   ]
  },
  {
   "cell_type": "code",
   "execution_count": 219,
   "metadata": {},
   "outputs": [
    {
     "name": "stdout",
     "output_type": "stream",
     "text": [
      "4305299936\n",
      "3 4\n",
      "4305299904 4305299936\n"
     ]
    }
   ],
   "source": [
    "def f(x): \n",
    "    '''new \"name space\" defined here (aka scope)'''\n",
    "    x  +=1 \n",
    "    y = 1000\n",
    "    print(id(x))\n",
    "    return x\n",
    "\n",
    "## note: id returns the memory location of an object \n",
    "\n",
    "x = 3 \n",
    "z = f(x)\n",
    "print(x,z)\n",
    "print(id(x),id(z))"
   ]
  },
  {
   "cell_type": "code",
   "execution_count": 220,
   "metadata": {},
   "outputs": [
    {
     "name": "stdout",
     "output_type": "stream",
     "text": [
      "Help on built-in function abs in module builtins:\n",
      "\n",
      "abs(x, /)\n",
      "    Return the absolute value of the argument.\n",
      "\n",
      "Help on function f in module __main__:\n",
      "\n",
      "f(x)\n",
      "    new \"name space\" defined here (aka scope)\n",
      "\n",
      "Help on built-in function abs in module builtins:\n",
      "\n",
      "abs(x, /)\n",
      "    Return the absolute value of the argument.\n",
      "\n"
     ]
    }
   ],
   "source": [
    "help(abs)\n",
    "help(f)\n",
    "\n",
    "\n",
    "f = abs\n",
    "help(f)"
   ]
  },
  {
   "cell_type": "code",
   "execution_count": 221,
   "metadata": {},
   "outputs": [
    {
     "name": "stdout",
     "output_type": "stream",
     "text": [
      "Help on function findroot in module __main__:\n",
      "\n",
      "findroot(x, power, epsilon)\n",
      "    Assumes x and epsilon int or float and power int \n",
      "    \n",
      "    returns float y such that Y**power is within epsilon \n",
      "    of x\n",
      "\n"
     ]
    }
   ],
   "source": [
    "# Assumptions and gurantees\n",
    "\n",
    "def findroot(x, power, epsilon ):\n",
    "    '''\n",
    "        Assumes x and epsilon int or float and power int \n",
    "        \n",
    "        returns float y such that Y**power is within epsilon \n",
    "        of x\n",
    "            '''\n",
    "    pass\n",
    "\n",
    "help(findroot)  \n"
   ]
  },
  {
   "cell_type": "code",
   "execution_count": 222,
   "metadata": {},
   "outputs": [
    {
     "name": "stdout",
     "output_type": "stream",
     "text": [
      "fib of 0 = 1\n",
      "fib of 1 = 1\n",
      "fib of 2 = 2\n",
      "fib of 3 = 3\n",
      "fib of 4 = 5\n",
      "fib of 5 = 8\n",
      "fib of 6 = 13\n",
      "\n",
      "hi\n"
     ]
    }
   ],
   "source": [
    "## quick glance at recursive functions \n",
    "\n",
    "def fib(n):\n",
    "    '''Assumes n int > 0\n",
    "        returns Fibonacci of n \n",
    "            '''\n",
    "    if n == 0 or n == 1:\n",
    "        return 1\n",
    "    else: \n",
    "        return fib(n-1) + fib(n-2)\n",
    "    \n",
    "def testFib(n):\n",
    "    for i in range(n+1):\n",
    "        print('fib of', i, '=', fib(i))\n",
    "    \n",
    "testFib(6)\n",
    "\n",
    "\n",
    "## still objects\n",
    "fib.weird = 'hi'\n",
    "print('\\n' + fib.weird)\n"
   ]
  },
  {
   "cell_type": "code",
   "execution_count": null,
   "metadata": {},
   "outputs": [],
   "source": [
    "## Files \n",
    "\n",
    "nameHandle = open('file', 'w')\n",
    "for i in range(2):\n",
    "    name = input('Name: ' )\n",
    "    nameHandle.write(name + '\\n')\n",
    "    \n",
    "nameHandle.close()"
   ]
  },
  {
   "cell_type": "markdown",
   "metadata": {},
   "source": [
    "More (alot more) on files [here](https://docs.python.org/3/tutorial/inputoutput.html)\n",
    "\n"
   ]
  },
  {
   "cell_type": "markdown",
   "metadata": {},
   "source": [
    "## Numpy\n"
   ]
  },
  {
   "cell_type": "code",
   "execution_count": null,
   "metadata": {},
   "outputs": [],
   "source": [
    "#pip install numpy \n",
    "\n",
    "import numpy as np \n",
    "\n",
    "print(dir(np))"
   ]
  },
  {
   "cell_type": "code",
   "execution_count": null,
   "metadata": {},
   "outputs": [],
   "source": [
    "test = np.array([1,2,3])\n",
    "print(test)\n",
    "print(type(test),  len(test), test.shape, test[0], test[2])\n",
    "\n",
    "## Generally want to avoid these .. for reasons we will get to later"
   ]
  },
  {
   "cell_type": "code",
   "execution_count": null,
   "metadata": {},
   "outputs": [],
   "source": [
    "test = np.array([[1,2,3],[4,5,6]])   # Create a rank 2 array\n",
    "print(test)\n",
    "print(type(test), test.shape, len(test),  test[0], test[1])\n",
    "print(test[0,0], test[1,2])\n"
   ]
  },
  {
   "cell_type": "code",
   "execution_count": null,
   "metadata": {},
   "outputs": [],
   "source": [
    "test = np.zeros((2,2)) ## not test = np.zeros(2,3)\n",
    "print(test)\n",
    "#test = np.zeros(2,3) \n",
    "\n",
    "test = np.ones((2,2))\n",
    "print(test)\n",
    "print(type(test[0,0]))\n",
    "\n",
    "test = np.full((2,2), 7 )\n",
    "print(test)\n",
    "\n",
    "test = np.full((2,2), 1 )\n",
    "print(test)\n",
    "\n",
    "test = np.eye(2)\n",
    "print(test)"
   ]
  },
  {
   "cell_type": "code",
   "execution_count": null,
   "metadata": {},
   "outputs": [],
   "source": [
    "print(np.random)"
   ]
  },
  {
   "cell_type": "code",
   "execution_count": null,
   "metadata": {},
   "outputs": [],
   "source": [
    "print(np.random.random)"
   ]
  },
  {
   "cell_type": "code",
   "execution_count": null,
   "metadata": {},
   "outputs": [],
   "source": [
    "#test = np.random(2,2)\n",
    "test = np.random.random((2,2))\n",
    "print(test)\n",
    "\n",
    "## or\n",
    "from numpy import ones\n",
    "from numpy import random\n",
    "from random import random as rand\n",
    "test = random.random((2,2))\n",
    "print(ones)\n",
    "print(random.random)\n",
    "print(rand)\n"
   ]
  },
  {
   "cell_type": "markdown",
   "metadata": {},
   "source": [
    "### Array indexing "
   ]
  },
  {
   "cell_type": "code",
   "execution_count": null,
   "metadata": {},
   "outputs": [],
   "source": [
    "#https://docs.scipy.org/doc/numpy-1.14.0/reference/generated/numpy.random.randint.html\n",
    "\n",
    "#test = np.random.randint((3,4), 1, 10)\n",
    "#test = np.random.randint(10,(3,4))\n",
    "\n",
    "test = np.random.randint(1,10, (3,4))\n",
    "print(test)\n",
    "\n",
    "test = np.random.randint(10, size = (3,4))\n",
    "print(test)"
   ]
  },
  {
   "cell_type": "code",
   "execution_count": null,
   "metadata": {},
   "outputs": [],
   "source": [
    "print(test[0])\n",
    "print(test[0,1])"
   ]
  },
  {
   "cell_type": "code",
   "execution_count": null,
   "metadata": {},
   "outputs": [],
   "source": [
    "print(test[:2])\n",
    "\n",
    "print(test[:2, 1:2])  ## remeber range \n"
   ]
  },
  {
   "cell_type": "code",
   "execution_count": null,
   "metadata": {},
   "outputs": [],
   "source": [
    "a = test\n",
    "a[0,0] = 1000\n",
    "print(test[0,0])\n",
    "print(id(a))\n",
    "print(id(test))\n",
    "\n",
    "test[0]"
   ]
  },
  {
   "cell_type": "code",
   "execution_count": null,
   "metadata": {},
   "outputs": [],
   "source": [
    "b = test[0]\n",
    "print(b)\n",
    "print(id(b))\n",
    "print(id(test))\n",
    "print(b.shape)\n",
    "print(type(b))\n",
    "b = np.array([10,11,19,32])\n",
    "print(test)"
   ]
  },
  {
   "cell_type": "code",
   "execution_count": null,
   "metadata": {},
   "outputs": [],
   "source": [
    "v = test[[0]]\n",
    "print(v)\n",
    "print(id(v))\n",
    "print(v.shape)\n",
    "print(id(test))\n",
    "print(type(v))\n",
    "\n",
    "v = np.array([10,11,19,32])\n",
    "print(test)"
   ]
  },
  {
   "cell_type": "code",
   "execution_count": null,
   "metadata": {},
   "outputs": [],
   "source": [
    "row_r1 = test[1, :]    # Rank 1 view of the second row of a  \n",
    "row_r2 = test[1:2, :]  # Rank 2 view of the second row of a\n",
    "row_r3 = test[[1], :]  # Rank 2 view of the second row of a\n",
    "print (row_r1, row_r1.shape)\n",
    "print (row_r2, row_r2.shape)\n",
    "print (row_r3, row_r3.shape)"
   ]
  },
  {
   "cell_type": "code",
   "execution_count": null,
   "metadata": {},
   "outputs": [],
   "source": [
    "a = np.array([[1,2,3], [4, 5, 6], [7, 8,9]])\n",
    "print (a[[0, 1, 2], [0, 1, 0]])\n",
    "print (np.array([a[0, 0], a[1, 1], a[2, 0]]))"
   ]
  },
  {
   "cell_type": "code",
   "execution_count": null,
   "metadata": {},
   "outputs": [],
   "source": [
    "np.arange(4)\n",
    "b = np.array([0,1,2])\n",
    "\n",
    "print(a)\n",
    "a[np.arange(3), b] += 100\n",
    "print(a)"
   ]
  },
  {
   "cell_type": "markdown",
   "metadata": {},
   "source": [
    "### Boolean indexing "
   ]
  },
  {
   "cell_type": "code",
   "execution_count": null,
   "metadata": {},
   "outputs": [],
   "source": [
    "print(a)\n",
    "\n",
    "print(a > 100)"
   ]
  },
  {
   "cell_type": "code",
   "execution_count": null,
   "metadata": {},
   "outputs": [],
   "source": [
    "a[a>100]"
   ]
  },
  {
   "cell_type": "code",
   "execution_count": null,
   "metadata": {},
   "outputs": [],
   "source": [
    "a[a>100] = -1\n",
    "print(a)\n",
    "print('\\n')\n",
    "\n",
    "#a[a>=6 and a<=10]\n",
    "print(a[np.logical_and(a>=6, a<=10)])\n",
    "print(a[(a >= 6) & (a <=10)])\n",
    "\n",
    "print('\\n')\n",
    "print(np.where(np.logical_and(a>=6, a<=10)))\n",
    "print(np.where((a >= 6) & (a <=10)))"
   ]
  },
  {
   "cell_type": "markdown",
   "metadata": {},
   "source": [
    "## Datatypes "
   ]
  },
  {
   "cell_type": "code",
   "execution_count": null,
   "metadata": {},
   "outputs": [],
   "source": [
    "print(np.ones(2))\n",
    "\n",
    "print(np.ones(2, dtype = np.int64))\n",
    "\n",
    "## https://docs.scipy.org/doc/numpy/reference/arrays.dtypes.html"
   ]
  },
  {
   "cell_type": "markdown",
   "metadata": {},
   "source": [
    "## Math!"
   ]
  },
  {
   "cell_type": "code",
   "execution_count": null,
   "metadata": {},
   "outputs": [],
   "source": [
    "#https://docs.scipy.org/doc/numpy/reference/routines.math.html\n",
    "\n",
    "a = np.full((2,2),3)\n",
    "b = np.full((2,2),4)\n",
    "\n",
    "print(a)\n",
    "print(b)"
   ]
  },
  {
   "cell_type": "code",
   "execution_count": null,
   "metadata": {},
   "outputs": [],
   "source": [
    "print(a+b) \n",
    "print(np.add(a,b))\n",
    "\n",
    "print(a-b)\n",
    "print(np.subtract(a,b))"
   ]
  },
  {
   "cell_type": "code",
   "execution_count": null,
   "metadata": {},
   "outputs": [],
   "source": [
    "print(a/b) ## ELEMENT WISE!"
   ]
  },
  {
   "cell_type": "code",
   "execution_count": null,
   "metadata": {},
   "outputs": [],
   "source": [
    "print(a**2)"
   ]
  },
  {
   "cell_type": "code",
   "execution_count": null,
   "metadata": {},
   "outputs": [],
   "source": [
    "print(a*b)"
   ]
  },
  {
   "cell_type": "code",
   "execution_count": null,
   "metadata": {},
   "outputs": [],
   "source": [
    "print(np.dot(a,b))  ##matul 3*4 + 3*4\n",
    "print(a.dot(b))\n",
    "print(b.dot(a))"
   ]
  },
  {
   "cell_type": "code",
   "execution_count": null,
   "metadata": {},
   "outputs": [],
   "source": [
    "v = np.array([9,10])\n",
    "w = np.array([11, 12])\n",
    "\n",
    "print (v.dot(w.T))\n",
    "print(w.dot(v))"
   ]
  },
  {
   "cell_type": "code",
   "execution_count": null,
   "metadata": {},
   "outputs": [],
   "source": [
    "print(np.sum(a))\n",
    "print(np.sum(a,axis = 0))\n",
    "\n",
    "b = np.array([[1,2,3],[4,5,6]])\n",
    "print(b)\n",
    "print(b.T)"
   ]
  },
  {
   "cell_type": "markdown",
   "metadata": {},
   "source": [
    "### Broadcasting"
   ]
  },
  {
   "cell_type": "code",
   "execution_count": null,
   "metadata": {},
   "outputs": [],
   "source": [
    "x = np.array([[1,2,3], [4,5,6], [7,8,9], [10, 11, 12]])\n",
    "v = np.array([1, 0, 1])\n",
    "y = np.empty_like(x)\n",
    "\n",
    "print(y)"
   ]
  },
  {
   "cell_type": "code",
   "execution_count": null,
   "metadata": {},
   "outputs": [],
   "source": [
    "print(x+v)"
   ]
  },
  {
   "cell_type": "code",
   "execution_count": null,
   "metadata": {},
   "outputs": [],
   "source": [
    "vv = np.tile(v, (4, 1))\n",
    "print(vv)"
   ]
  },
  {
   "cell_type": "code",
   "execution_count": null,
   "metadata": {},
   "outputs": [],
   "source": [
    "print(x+vv)"
   ]
  },
  {
   "cell_type": "markdown",
   "metadata": {},
   "source": [
    "[very nice explanation of broadcasting](http://scipy.github.io/old-wiki/pages/EricsBroadcastingDoc])"
   ]
  },
  {
   "cell_type": "code",
   "execution_count": null,
   "metadata": {},
   "outputs": [],
   "source": [
    "a = np.array([0.0,10.0,20.0,30.0])\n",
    "b = np.array([1.0,2.0,3.0]) \n",
    "#a+b\n",
    "\n",
    "a[:,np.newaxis] + b"
   ]
  },
  {
   "cell_type": "markdown",
   "metadata": {},
   "source": [
    "## \"scipy\" "
   ]
  },
  {
   "cell_type": "markdown",
   "metadata": {},
   "source": [
    "[scipy](https://docs.scipy.org/doc/scipy/reference/tutorial/index.html)"
   ]
  },
  {
   "cell_type": "markdown",
   "metadata": {},
   "source": [
    "## Resources\n",
    "\n",
    "* [Broadasting explained](http://scipy.github.io/old-wiki/pages/EricsBroadcastingDoc)\n",
    "* [more numpy?](https://www.machinelearningplus.com/python/numpy-tutorial-part1-array-python-examples/)\n",
    "* [python_data_science_basics](http://cs231n.github.io/python-numpy-tutorial/)"
   ]
  }
 ],
 "metadata": {
  "kernelspec": {
   "display_name": "Python 3",
   "language": "python",
   "name": "python3"
  },
  "language_info": {
   "codemirror_mode": {
    "name": "ipython",
    "version": 3
   },
   "file_extension": ".py",
   "mimetype": "text/x-python",
   "name": "python",
   "nbconvert_exporter": "python",
   "pygments_lexer": "ipython3",
   "version": "3.6.4"
  }
 },
 "nbformat": 4,
 "nbformat_minor": 2
}
