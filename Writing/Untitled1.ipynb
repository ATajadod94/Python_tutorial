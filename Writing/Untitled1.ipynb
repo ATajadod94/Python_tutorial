{
 "cells": [
  {
   "cell_type": "code",
   "execution_count": null,
   "metadata": {},
   "outputs": [],
   "source": [
    "\n",
    "        \n",
    "[I 23:33:49.681 NotebookApp] KernelRestarter: restarting kernel (1/5), new random ports\n",
    "Traceback (most recent call last):\n",
    "  File \"/Users/Ali/miniconda3/lib/python3.6/runpy.py\", line 193, in _run_module_as_main\n",
    "    \"__main__\", mod_spec)\n",
    "  File \"/Users/Ali/miniconda3/lib/python3.6/runpy.py\", line 85, in _run_code\n",
    "    exec(code, run_globals)\n",
    "  File \"/Users/Ali/miniconda3/lib/python3.6/site-packages/matlab_kernel-0.15.0-py3.6.egg/matlab_kernel/__main__.py\", line 3, in <module>\n",
    "    MatlabKernel.run_as_main()\n",
    "  File \"/Users/Ali/miniconda3/lib/python3.6/site-packages/metakernel-0.20.14-py3.6.egg/metakernel/_metakernel.py\", line 115, in run_as_main\n",
    "    MetaKernelApp.launch_instance(kernel_class=cls)\n",
    "  File \"/Users/Ali/miniconda3/lib/python3.6/site-packages/traitlets/config/application.py\", line 657, in launch_instance\n",
    "    app.initialize(argv)\n",
    "  File \"<decorator-gen-123>\", line 2, in initialize\n",
    "  File \"/Users/Ali/miniconda3/lib/python3.6/site-packages/traitlets/config/application.py\", line 87, in catch_config_error\n",
    "    return method(app, *args, **kwargs)\n",
    "  File \"/Users/Ali/miniconda3/lib/python3.6/site-packages/ipykernel/kernelapp.py\", line 457, in initialize\n",
    "    self.init_kernel()\n",
    "  File \"/Users/Ali/miniconda3/lib/python3.6/site-packages/ipykernel/kernelapp.py\", line 368, in init_kernel\n",
    "    user_ns=self.user_ns,\n",
    "  File \"/Users/Ali/miniconda3/lib/python3.6/site-packages/traitlets/config/configurable.py\", line 412, in instance\n",
    "    inst = cls(*args, **kwargs)\n",
    "  File \"/Users/Ali/miniconda3/lib/python3.6/site-packages/matlab_kernel-0.15.0-py3.6.egg/matlab_kernel/kernel.py\", line 68, in __init__\n",
    "    \"\"\")\n",
    "ImportError: "
   ]
  }
 ],
 "metadata": {
  "kernelspec": {
   "display_name": "Matlab",
   "language": "matlab",
   "name": "matlab"
  }
 },
 "nbformat": 4,
 "nbformat_minor": 2
}
